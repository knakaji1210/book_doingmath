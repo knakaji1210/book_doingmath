{
 "cells": [
  {
   "cell_type": "code",
   "execution_count": null,
   "id": "expensive-forge",
   "metadata": {},
   "outputs": [],
   "source": [
    "import math\n",
    "math.sin(math.pi/2)"
   ]
  },
  {
   "cell_type": "code",
   "execution_count": null,
   "id": "macro-estate",
   "metadata": {},
   "outputs": [],
   "source": [
    "import sympy\n",
    "sympy.sin(math.pi/2)"
   ]
  },
  {
   "cell_type": "code",
   "execution_count": null,
   "id": "complex-latter",
   "metadata": {},
   "outputs": [],
   "source": [
    "from sympy import Symbol\n",
    "theta = Symbol('theta')\n",
    "math.sin(theta) + math.sin(theta)"
   ]
  },
  {
   "cell_type": "code",
   "execution_count": null,
   "id": "subtle-berkeley",
   "metadata": {},
   "outputs": [],
   "source": [
    "sympy.sin(theta) + sympy.sin(theta)"
   ]
  },
  {
   "cell_type": "code",
   "execution_count": null,
   "id": "norman-education",
   "metadata": {},
   "outputs": [],
   "source": [
    "from sympy import sin, solve, Symbol\n",
    "u = Symbol('u')\n",
    "t = Symbol('t')\n",
    "g = Symbol('g')\n",
    "theta = Symbol('theta')\n",
    "solve(u*sin(theta)-g*t,t)"
   ]
  },
  {
   "cell_type": "code",
   "execution_count": null,
   "id": "intended-mathematics",
   "metadata": {},
   "outputs": [],
   "source": [
    "from sympy import Symbol\n",
    "x = Symbol('x')\n",
    "if (x + 5) > 0:\n",
    "    print('Do something')\n",
    "else:\n",
    "    print('Do something else')"
   ]
  },
  {
   "cell_type": "code",
   "execution_count": null,
   "id": "elegant-announcement",
   "metadata": {},
   "outputs": [],
   "source": [
    "from sympy import Symbol\n",
    "x = Symbol('x', positive=True)\n",
    "if (x + 5) > 0:\n",
    "    print('Do something')\n",
    "else:\n",
    "    print('Do something else')"
   ]
  },
  {
   "cell_type": "code",
   "execution_count": null,
   "id": "institutional-easter",
   "metadata": {},
   "outputs": [],
   "source": [
    "from sympy import Symbol\n",
    "x = Symbol('x', negative=True)\n",
    "if (x + 5) > 0:\n",
    "    print('Do something')\n",
    "else:\n",
    "    print('Do something else')"
   ]
  },
  {
   "cell_type": "code",
   "execution_count": null,
   "id": "acquired-theorem",
   "metadata": {},
   "outputs": [],
   "source": [
    "from sympy.plotting import plot\n",
    "from sympy import Symbol\n",
    "x = Symbol('x')\n",
    "plot(1/x, (x,10,1000))\n"
   ]
  },
  {
   "cell_type": "code",
   "execution_count": null,
   "id": "cloudy-aspect",
   "metadata": {},
   "outputs": [],
   "source": [
    "from sympy import Limit, Symbol, S\n",
    "x = Symbol('x')\n",
    "Limit(1/x, x, S.Infinity)"
   ]
  },
  {
   "cell_type": "code",
   "execution_count": null,
   "id": "complimentary-findings",
   "metadata": {},
   "outputs": [],
   "source": [
    "l = Limit(1/x, x, S.Infinity)\n",
    "l.doit()"
   ]
  },
  {
   "cell_type": "code",
   "execution_count": null,
   "id": "persistent-distinction",
   "metadata": {},
   "outputs": [],
   "source": [
    "Limit(1/x, x, 0, dir='-').doit()"
   ]
  },
  {
   "cell_type": "code",
   "execution_count": null,
   "id": "painted-adaptation",
   "metadata": {},
   "outputs": [],
   "source": [
    "Limit(1/x, x, 0, dir='+').doit()"
   ]
  },
  {
   "cell_type": "code",
   "execution_count": null,
   "id": "boolean-locator",
   "metadata": {},
   "outputs": [],
   "source": [
    "from sympy import Symbol, sin\n",
    "Limit(sin(x)/x, x, 0).doit()"
   ]
  },
  {
   "cell_type": "code",
   "execution_count": null,
   "id": "documented-toilet",
   "metadata": {},
   "outputs": [],
   "source": [
    "from sympy import Limit, Symbol, S\n",
    "n = Symbol('n')\n",
    "Limit((1+1/n)**n, n, S.Infinity).doit()"
   ]
  },
  {
   "cell_type": "code",
   "execution_count": null,
   "id": "present-building",
   "metadata": {},
   "outputs": [],
   "source": [
    "from sympy import Limit, Symbol, S\n",
    "p = Symbol('p', positive=True)\n",
    "r = Symbol('r', positive=True)\n",
    "t = Symbol('t', positive=True)\n",
    "Limit(p*(1+r/n)**(n*t), n, S.Infinity).doit()"
   ]
  },
  {
   "cell_type": "code",
   "execution_count": null,
   "id": "medium-suggestion",
   "metadata": {},
   "outputs": [],
   "source": [
    "from sympy import Limit, Symbol, S\n",
    "t = Symbol('t')\n",
    "St = 5*t**2 + 2*t + 8\n",
    "\n",
    "t1 = Symbol('t1')\n",
    "delta_t = Symbol('delta_t')\n",
    "\n",
    "St1 = St.subs({t: t1})\n",
    "St1_delta = St.subs({t: t1 + delta_t})"
   ]
  },
  {
   "cell_type": "code",
   "execution_count": null,
   "id": "aerial-retirement",
   "metadata": {},
   "outputs": [],
   "source": [
    "Limit((St1_delta - St1)/delta_t, delta_t, 0).doit()"
   ]
  },
  {
   "cell_type": "code",
   "execution_count": null,
   "id": "designing-grace",
   "metadata": {},
   "outputs": [],
   "source": [
    "from sympy import Limit, Symbol, Derivative\n",
    "t = Symbol('t')\n",
    "St = 5*t**2 + 2*t + 8\n",
    "\n",
    "d = Derivative(St, t)\n",
    "d.doit()"
   ]
  },
  {
   "cell_type": "code",
   "execution_count": null,
   "id": "tender-classics",
   "metadata": {},
   "outputs": [],
   "source": [
    "d.doit().subs({t: t1})"
   ]
  },
  {
   "cell_type": "code",
   "execution_count": null,
   "id": "nuclear-certificate",
   "metadata": {},
   "outputs": [],
   "source": [
    "from sympy import Limit, Symbol, Derivative\n",
    "x = Symbol('x')\n",
    "f = (x**3 + x**2 + x)*(x**2 + x)\n",
    "d = Derivative(f,x).doit()\n",
    "d"
   ]
  },
  {
   "cell_type": "code",
   "execution_count": null,
   "id": "sophisticated-reservation",
   "metadata": {},
   "outputs": [],
   "source": [
    "from sympy import simplify\n",
    "simplify(d)"
   ]
  },
  {
   "cell_type": "code",
   "execution_count": null,
   "id": "noticed-syracuse",
   "metadata": {},
   "outputs": [],
   "source": [
    "'''\n",
    "Derivative Calculator\n",
    "'''\n",
    "\n",
    "from sympy import Symbol, Derivative, sympify, pprint\n",
    "from sympy.core.sympify import SympifyError\n",
    "\n",
    "def derivative(f, var):\n",
    "    var = Symbol(var)\n",
    "    d = Derivative(f, var).doit()\n",
    "    pprint(d)\n",
    "\n",
    "if __name__=='__main__':\n",
    "    f = input('Enter a function: ')\n",
    "    var = input('Enther the variable to differentiate with respect to: ')\n",
    "    try:\n",
    "        f = sympify(f)\n",
    "    except SympifyError:\n",
    "        print('Invalid input')\n",
    "    else:\n",
    "        derivative(f, var)"
   ]
  },
  {
   "cell_type": "code",
   "execution_count": null,
   "id": "greenhouse-rental",
   "metadata": {},
   "outputs": [],
   "source": [
    "'''\n",
    "Derivative Calculator\n",
    "'''\n",
    "\n",
    "from sympy import Symbol, Derivative, sympify, pprint\n",
    "from sympy.core.sympify import SympifyError\n",
    "\n",
    "def derivative(f, var):\n",
    "    var = Symbol(var)\n",
    "    d = Derivative(f, var).doit()\n",
    "    pprint(d)\n",
    "\n",
    "if __name__=='__main__':\n",
    "    f = input('Enter a function: ')\n",
    "    var = input('Enther the variable to differentiate with respect to: ')\n",
    "    try:\n",
    "        f = sympify(f)\n",
    "    except SympifyError:\n",
    "        print('Invalid input')\n",
    "    else:\n",
    "        derivative(f, var)"
   ]
  },
  {
   "cell_type": "code",
   "execution_count": null,
   "id": "novel-filter",
   "metadata": {},
   "outputs": [],
   "source": [
    "'''\n",
    "Derivative Calculator\n",
    "'''\n",
    "\n",
    "from sympy import Symbol, Derivative, sympify, pprint\n",
    "from sympy.core.sympify import SympifyError\n",
    "\n",
    "def derivative(f, var):\n",
    "    var = Symbol(var)\n",
    "    d = Derivative(f, var).doit()\n",
    "    pprint(d)\n",
    "\n",
    "if __name__=='__main__':\n",
    "    f = input('Enter a function: ')\n",
    "    var = input('Enther the variable to differentiate with respect to: ')\n",
    "    try:\n",
    "        f = sympify(f)\n",
    "    except SympifyError:\n",
    "        print('Invalid input')\n",
    "    else:\n",
    "        derivative(f, var)"
   ]
  },
  {
   "cell_type": "code",
   "execution_count": null,
   "id": "terminal-storage",
   "metadata": {},
   "outputs": [],
   "source": [
    "from sympy.plotting import plot\n",
    "from sympy import Symbol\n",
    "x = Symbol('x')\n",
    "plot(x**5 -30*x**3 + 50*x, (x,-5,5))"
   ]
  },
  {
   "cell_type": "code",
   "execution_count": null,
   "id": "nearby-creativity",
   "metadata": {},
   "outputs": [],
   "source": [
    "from sympy import Symbol, solve, Derivative\n",
    "x = Symbol('x')\n",
    "f = x**5 -30*x**3 + 50*x\n",
    "d1 = Derivative(f, x).doit()\n",
    "d1"
   ]
  },
  {
   "cell_type": "code",
   "execution_count": null,
   "id": "fluid-finnish",
   "metadata": {},
   "outputs": [],
   "source": [
    "critical_points = solve(d1)\n",
    "critical_points"
   ]
  },
  {
   "cell_type": "code",
   "execution_count": null,
   "id": "secret-metabolism",
   "metadata": {},
   "outputs": [],
   "source": [
    "A = critical_points[2]\n",
    "B = critical_points[0]\n",
    "C = critical_points[1]\n",
    "D = critical_points[3]"
   ]
  },
  {
   "cell_type": "code",
   "execution_count": null,
   "id": "adopted-stationery",
   "metadata": {},
   "outputs": [],
   "source": [
    "d2 = Derivative(f, x, 2).doit()\n",
    "d2"
   ]
  },
  {
   "cell_type": "code",
   "execution_count": null,
   "id": "modular-thong",
   "metadata": {},
   "outputs": [],
   "source": [
    "d2.subs({x:B}).evalf()"
   ]
  },
  {
   "cell_type": "code",
   "execution_count": null,
   "id": "parental-color",
   "metadata": {},
   "outputs": [],
   "source": [
    "d2.subs({x:C}).evalf()"
   ]
  },
  {
   "cell_type": "code",
   "execution_count": null,
   "id": "other-cleaners",
   "metadata": {},
   "outputs": [],
   "source": [
    "d2.subs({x:A}).evalf()"
   ]
  },
  {
   "cell_type": "code",
   "execution_count": null,
   "id": "herbal-israel",
   "metadata": {},
   "outputs": [],
   "source": [
    "d2.subs({x:D}).evalf()"
   ]
  },
  {
   "cell_type": "code",
   "execution_count": null,
   "id": "opening-lover",
   "metadata": {},
   "outputs": [],
   "source": [
    "x_min = -5\n",
    "x_max = 5"
   ]
  },
  {
   "cell_type": "code",
   "execution_count": null,
   "id": "norwegian-tiger",
   "metadata": {},
   "outputs": [],
   "source": [
    "f.subs({x:A}).evalf()"
   ]
  },
  {
   "cell_type": "code",
   "execution_count": null,
   "id": "brown-potato",
   "metadata": {},
   "outputs": [],
   "source": [
    "f.subs({x:C}).evalf()"
   ]
  },
  {
   "cell_type": "code",
   "execution_count": null,
   "id": "graphic-moldova",
   "metadata": {},
   "outputs": [],
   "source": [
    "f.subs({x:x_min}).evalf()"
   ]
  },
  {
   "cell_type": "code",
   "execution_count": null,
   "id": "magnetic-duration",
   "metadata": {},
   "outputs": [],
   "source": [
    "f.subs({x:x_max}).evalf()"
   ]
  },
  {
   "cell_type": "code",
   "execution_count": null,
   "id": "configured-uniform",
   "metadata": {},
   "outputs": [],
   "source": [
    "from sympy.plotting import plot\n",
    "from sympy import Symbol\n",
    "u = 25\n",
    "g = 9.8\n",
    "x = Symbol('x')\n",
    "theta = math.pi*x/180\n",
    "plot((u**2)*sympy.sin(2*theta)/g, (x,0,90))"
   ]
  },
  {
   "cell_type": "code",
   "execution_count": null,
   "id": "saved-bottle",
   "metadata": {},
   "outputs": [],
   "source": [
    "'''\n",
    "Use gradient ascent to find the angle at which the projectile\n",
    "has maximum range for a fixed velocity, 25 m/s\n",
    "'''\n",
    "\n",
    "def grad_ascent(x0, f1x, x):\n",
    "    epsilon = 1e-6\n",
    "    step_size = 1e-4\n",
    "    x_old = x0\n",
    "    x_new = x_old + step_size*f1x.subs({x:x_old}).evalf()\n",
    "    while abs(x_old - x_new) > epsilon:\n",
    "        x_old = x_new\n",
    "        x_new = x_old + step_size*f1x.subs({x:x_old}).evalf()\n",
    "    return x_new\n",
    "\n",
    "def find_max_theta(R, theta):\n",
    "    # calculate the first derivative\n",
    "    R1theta = Derivative(R, theta).doit()\n",
    "    theta0 = 1e-3\n",
    "    theta_max = grad_ascent(theta0, R1theta, theta)\n",
    "    return theta_max\n",
    "\n",
    "if __name__=='__main__':\n",
    "    g = 9.8\n",
    "    # Assume initial velocity\n",
    "    u = 25\n",
    "    # Expression for image\n",
    "    theta = Symbol('theta')\n",
    "    R = u**2*sin(2*theta)/g\n",
    "    \n",
    "    theta_max = find_max_theta(R, theta)\n",
    "    print('Theta: {0}'.format(math.degrees(theta_max)))\n",
    "    print('Maximum Range: {0}'.format(R.subs({theta:theta_max})))"
   ]
  },
  {
   "cell_type": "code",
   "execution_count": null,
   "id": "palestinian-hypothetical",
   "metadata": {},
   "outputs": [],
   "source": [
    "'''\n",
    "Use gradient ascent to find the maximum value of a single variable function\n",
    "'''\n",
    "\n",
    "from sympy import Derivative, Symbol, sympify\n",
    "\n",
    "def grad_ascent(x0, f1x, x):\n",
    "    epsilon = 1e-6\n",
    "    step_size = 1e-4\n",
    "    x_old = x0\n",
    "    x_new = x_old + step_size*f1x.subs({x:x_old}).evalf()\n",
    "    while abs(x_old - x_new) > epsilon:\n",
    "        x_old = x_new\n",
    "        x_new = x_old + step_size*f1x.subs({x:x_old}).evalf()\n",
    "    return x_new\n",
    "\n",
    "if __name__=='__main__':\n",
    "    f = input('Enter a function in one variable: ')\n",
    "    var = input('Enter the variable to differentiate with respect to: ')\n",
    "    var0 = float(input('Enter the initial value of the variable: '))\n",
    "    try:\n",
    "        f = sympify(f)\n",
    "    except SympifyError:\n",
    "        print('Invalid function entered')\n",
    "    else:\n",
    "        var = Symbol(var)\n",
    "        d = Derivative(f, var).doit()\n",
    "        var_max = grad_ascent(var0, d, var)\n",
    "        print('{0}: {1}'.format(var.name, var_max))\n",
    "        print('Maximum value: {0}'.format(f.subs({var:var_max})))"
   ]
  },
  {
   "cell_type": "code",
   "execution_count": null,
   "id": "better-advertising",
   "metadata": {},
   "outputs": [],
   "source": [
    "'''\n",
    "Use gradient ascent to find the maximum value of a single variable function\n",
    "'''\n",
    "\n",
    "from sympy import Derivative, Symbol, sympify\n",
    "\n",
    "def grad_ascent(x0, f1x, x):\n",
    "    epsilon = 1e-6\n",
    "    step_size = 1e-4\n",
    "    x_old = x0\n",
    "    x_new = x_old + step_size*f1x.subs({x:x_old}).evalf()\n",
    "    while abs(x_old - x_new) > epsilon:\n",
    "        x_old = x_new\n",
    "        x_new = x_old + step_size*f1x.subs({x:x_old}).evalf()\n",
    "    return x_new\n",
    "\n",
    "if __name__=='__main__':\n",
    "    f = input('Enter a function in one variable: ')\n",
    "    var = input('Enter the variable to differentiate with respect to: ')\n",
    "    var0 = float(input('Enter the initial value of the variable: '))\n",
    "    try:\n",
    "        f = sympify(f)\n",
    "    except SympifyError:\n",
    "        print('Invalid function entered')\n",
    "    else:\n",
    "        var = Symbol(var)\n",
    "        d = Derivative(f, var).doit()\n",
    "        var_max = grad_ascent(var0, d, var)\n",
    "        print('{0}: {1}'.format(var.name, var_max))\n",
    "        print('Maximum value: {0}'.format(f.subs({var:var_max})))"
   ]
  },
  {
   "cell_type": "code",
   "execution_count": null,
   "id": "hired-formation",
   "metadata": {},
   "outputs": [],
   "source": [
    "'''\n",
    "Use gradient ascent to find the maximum value of a single variable function\n",
    "'''\n",
    "\n",
    "from sympy import Derivative, Symbol, sympify\n",
    "\n",
    "def grad_ascent(x0, f1x, x):\n",
    "    epsilon = 1e-6\n",
    "    step_size = 1e-4\n",
    "    x_old = x0\n",
    "    x_new = x_old + step_size*f1x.subs({x:x_old}).evalf()\n",
    "    while abs(x_old - x_new) > epsilon:\n",
    "        x_old = x_new\n",
    "        x_new = x_old + step_size*f1x.subs({x:x_old}).evalf()\n",
    "    return x_new\n",
    "\n",
    "if __name__=='__main__':\n",
    "    f = input('Enter a function in one variable: ')\n",
    "    var = input('Enter the variable to differentiate with respect to: ')\n",
    "    var0 = float(input('Enter the initial value of the variable: '))\n",
    "    try:\n",
    "        f = sympify(f)\n",
    "    except SympifyError:\n",
    "        print('Invalid function entered')\n",
    "    else:\n",
    "        var = Symbol(var)\n",
    "        d = Derivative(f, var).doit()\n",
    "        var_max = grad_ascent(var0, d, var)\n",
    "        print('{0}: {1}'.format(var.name, var_max))\n",
    "        print('Maximum value: {0}'.format(f.subs({var:var_max})))"
   ]
  },
  {
   "cell_type": "code",
   "execution_count": null,
   "id": "crazy-requirement",
   "metadata": {},
   "outputs": [],
   "source": [
    "'''\n",
    "Use gradient ascent to find the maximum value of a single variable function\n",
    "'''\n",
    "\n",
    "from sympy import Derivative, Symbol, sympify\n",
    "\n",
    "def grad_ascent(x0, f1x, x):\n",
    "    epsilon = 1e-6\n",
    "    step_size = 1e-4\n",
    "    x_old = x0\n",
    "    x_new = x_old + step_size*f1x.subs({x:x_old}).evalf()\n",
    "    while abs(x_old - x_new) > epsilon:\n",
    "        x_old = x_new\n",
    "        x_new = x_old + step_size*f1x.subs({x:x_old}).evalf()\n",
    "    return x_new\n",
    "\n",
    "if __name__=='__main__':\n",
    "    f = input('Enter a function in one variable: ')\n",
    "    var = input('Enter the variable to differentiate with respect to: ')\n",
    "    var0 = float(input('Enter the initial value of the variable: '))\n",
    "    try:\n",
    "        f = sympify(f)\n",
    "    except SympifyError:\n",
    "        print('Invalid function entered')\n",
    "    else:\n",
    "        var = Symbol(var)\n",
    "        d = Derivative(f, var).doit()\n",
    "        var_max = grad_ascent(var0, d, var)\n",
    "        print('{0}: {1}'.format(var.name, var_max))\n",
    "        print('Maximum value: {0}'.format(f.subs({var:var_max})))"
   ]
  },
  {
   "cell_type": "code",
   "execution_count": null,
   "id": "cordless-visiting",
   "metadata": {},
   "outputs": [],
   "source": [
    "'''\n",
    "Use gradient ascent to find the maximum value of a single variable function\n",
    "'''\n",
    "\n",
    "from sympy import Derivative, Symbol, sympify\n",
    "\n",
    "def grad_ascent(x0, f1x, x):\n",
    "    epsilon = 1e-6\n",
    "    step_size = 1e-4\n",
    "    x_old = x0\n",
    "    x_new = x_old + step_size*f1x.subs({x:x_old}).evalf()\n",
    "    while abs(x_old - x_new) > epsilon:\n",
    "        x_old = x_new\n",
    "        x_new = x_old + step_size*f1x.subs({x:x_old}).evalf()\n",
    "    return x_new\n",
    "\n",
    "if __name__=='__main__':\n",
    "    f = input('Enter a function in one variable: ')\n",
    "    var = input('Enter the variable to differentiate with respect to: ')\n",
    "    var0 = float(input('Enter the initial value of the variable: '))\n",
    "    try:\n",
    "        f = sympify(f)\n",
    "    except SympifyError:\n",
    "        print('Invalid function entered')\n",
    "    else:\n",
    "        var = Symbol(var)\n",
    "        d = Derivative(f, var).doit()\n",
    "        var_max = grad_ascent(var0, d, var)\n",
    "        print('{0}: {1}'.format(var.name, var_max))\n",
    "        print('Maximum value: {0}'.format(f.subs({var:var_max})))"
   ]
  },
  {
   "cell_type": "code",
   "execution_count": null,
   "id": "incident-prior",
   "metadata": {},
   "outputs": [],
   "source": [
    "'''\n",
    "Use gradient ascent to find the maximum value of a single variable function.\n",
    "This also checks for the existence of a solution for the equation f'(x)=0.\n",
    "'''\n",
    "\n",
    "from sympy import Derivative, Symbol, sympify, solve\n",
    "\n",
    "def grad_ascent(x0, f1x, x):\n",
    "    # check if f1x=0 has a solution\n",
    "    if not solve(f1x):\n",
    "        print('Cannot continue, solution for {0}=0 does not exist'.format(f1x))\n",
    "        return\n",
    "    epsilon = 1e-6\n",
    "    step_size = 1e-4\n",
    "    x_old = x0\n",
    "    x_new = x_old + step_size*f1x.subs({x:x_old}).evalf()\n",
    "    while abs(x_old - x_new) > epsilon:\n",
    "        x_old = x_new\n",
    "        x_new = x_old + step_size*f1x.subs({x:x_old}).evalf()\n",
    "    return x_new\n",
    "\n",
    "if __name__=='__main__':\n",
    "    f = input('Enter a function in one variable: ')\n",
    "    var = input('Enter the variable to differentiate with respect to: ')\n",
    "    var0 = float(input('Enter the initial value of the variable: '))\n",
    "    try:\n",
    "        f = sympify(f)\n",
    "    except SympifyError:\n",
    "        print('Invalid function entered')\n",
    "    else:\n",
    "        var = Symbol(var)\n",
    "        d = Derivative(f, var).doit()\n",
    "        var_max = grad_ascent(var0, d, var)\n",
    "        if var_max:\n",
    "            print('{0}: {1}'.format(var.name, var_max))\n",
    "            print('Maximum value: {0}'.format(f.subs({var:var_max})))"
   ]
  },
  {
   "cell_type": "code",
   "execution_count": null,
   "id": "quiet-patent",
   "metadata": {},
   "outputs": [],
   "source": [
    "from sympy import Integral, Symbol\n",
    "x = Symbol('x')\n",
    "k = Symbol('k')\n",
    "Integral(k*x, x)"
   ]
  },
  {
   "cell_type": "code",
   "execution_count": null,
   "id": "friendly-general",
   "metadata": {},
   "outputs": [],
   "source": [
    "Integral(k*x, x).doit()"
   ]
  },
  {
   "cell_type": "code",
   "execution_count": null,
   "id": "toxic-intranet",
   "metadata": {},
   "outputs": [],
   "source": [
    "from sympy import Integral, Symbol\n",
    "x = Symbol('x')\n",
    "k = Symbol('k')\n",
    "Integral(k*x, (x,0,2))"
   ]
  },
  {
   "cell_type": "code",
   "execution_count": null,
   "id": "stopped-passage",
   "metadata": {},
   "outputs": [],
   "source": [
    "Integral(k*x, (x,0,2)).doit()"
   ]
  },
  {
   "cell_type": "code",
   "execution_count": null,
   "id": "overall-indicator",
   "metadata": {},
   "outputs": [],
   "source": [
    "from sympy import Integral, Symbol, exp, sqrt, pi\n",
    "x = Symbol('x')\n",
    "p = exp(-(x-10)**2/2)/sqrt(2*pi)\n",
    "Integral(p, (x,11,12)).doit().evalf()"
   ]
  },
  {
   "cell_type": "code",
   "execution_count": null,
   "id": "sublime-blanket",
   "metadata": {},
   "outputs": [],
   "source": [
    "from sympy import Integral, Symbol, exp, sqrt, pi, S\n",
    "x = Symbol('x')\n",
    "p = exp(-(x-10)**2/2)/sqrt(2*pi)\n",
    "Integral(p, (x,S.NegativeInfinity,S.Infinity)).doit().evalf()"
   ]
  },
  {
   "cell_type": "code",
   "execution_count": null,
   "id": "sublime-japanese",
   "metadata": {},
   "outputs": [],
   "source": [
    "'''\n",
    "Problem 7-1\n",
    "'''\n",
    "\n",
    "from sympy import Derivative, Symbol, sympify, Limit, S, pprint\n",
    "\n",
    "def continuity_check(f, var, var0):\n",
    "    f1 = f.subs({var:var0})\n",
    "    d = Derivative(f, var).doit()\n",
    "    l_l = Limit(f, var, var0, dir='-').doit()\n",
    "    l_r = Limit(f, var, var0, dir='+').doit()\n",
    "    if f1 == l_l and f1 == l_r:\n",
    "        value = 'T'\n",
    "    else:\n",
    "        value = 'F'\n",
    "    return value\n",
    "    \n",
    "\n",
    "if __name__=='__main__':\n",
    "    f = input('Enter a function in one variable: ')\n",
    "    var = input('Enter the variable to differentiate with respect to: ')\n",
    "    var0 = float(input('Enter the point to check the continuity at: '))\n",
    "    try:\n",
    "        f = sympify(f)\n",
    "    except SympifyError:\n",
    "        print('Invalid function entered')\n",
    "    else:\n",
    "        var = Symbol(var)\n",
    "        v = continuity_check(f, var, var0)\n",
    "        if v == 'T':\n",
    "            print('{0} is continuous at {1}'.format(f, var0))\n",
    "        else:\n",
    "            print('{0} is not continuous at {1}'.format(f, var0))\n"
   ]
  },
  {
   "cell_type": "code",
   "execution_count": null,
   "id": "hybrid-payment",
   "metadata": {},
   "outputs": [],
   "source": [
    "'''\n",
    "verify_continuity.py\n",
    "\n",
    "Verify the continuity of a function\n",
    "'''\n",
    "\n",
    "from sympy import Limit, Symbol, sympify, SympifyError\n",
    "\n",
    "def check_continuity(f, var, a):\n",
    "    l1 = Limit(f, var, a, dir='+').doit()\n",
    "    l2 = Limit(f, var, a, dir='-').doit()\n",
    "    f_val = f.subs({var:a})\n",
    "\n",
    "    if l1 == l2 and f_val == l1:\n",
    "        print('{0} is continuous at {1}'.format(f, a))\n",
    "    else:\n",
    "        print('{0} is not continuous at {1}'.format(f, a))\n",
    "\n",
    "if __name__ == '__main__':\n",
    "    f = input('Enter a function in one variable: ')\n",
    "    var = input('Enter the variable: ')\n",
    "    a = float(input('Enter the point to check the continuity at: '))\n",
    "    try:\n",
    "        f = sympify(f)\n",
    "    except SympifyError:\n",
    "        print('Invalid function entered')\n",
    "    else:\n",
    "        var = Symbol(var)\n",
    "        d = check_continuity(f, var, a)\n"
   ]
  },
  {
   "cell_type": "code",
   "execution_count": null,
   "id": "genetic-castle",
   "metadata": {},
   "outputs": [],
   "source": [
    "'''\n",
    "Use gradient descent to find the maximum value of a single variable function.\n",
    "This also checks for the existence of a solution for the equation f'(x)=0.\n",
    "'''\n",
    "\n",
    "from sympy import Derivative, Symbol, sympify, solve\n",
    "\n",
    "def grad_descent(x0, f1x, x):\n",
    "    # check if f1x=0 has a solution\n",
    "    if not solve(f1x):\n",
    "        print('Cannot continue, solution for {0}=0 does not exist'.format(f1x))\n",
    "        return\n",
    "    epsilon = 1e-6\n",
    "    step_size = 1e-4\n",
    "    x_old = x0\n",
    "    x_new = x_old - step_size*f1x.subs({x:x_old}).evalf()\n",
    "    while abs(x_old - x_new) > epsilon:\n",
    "        x_old = x_new\n",
    "        x_new = x_old - step_size*f1x.subs({x:x_old}).evalf()\n",
    "    return x_new\n",
    "\n",
    "if __name__=='__main__':\n",
    "    f = input('Enter a function in one variable: ')\n",
    "    var = input('Enter the variable to differentiate with respect to: ')\n",
    "    var0 = float(input('Enter the initial value of the variable: '))\n",
    "    try:\n",
    "        f = sympify(f)\n",
    "    except SympifyError:\n",
    "        print('Invalid function entered')\n",
    "    else:\n",
    "        var = Symbol(var)\n",
    "        d = Derivative(f, var).doit()\n",
    "        var_max = grad_descent(var0, d, var)\n",
    "        if var_max:\n",
    "            print('{0}: {1}'.format(var.name, var_max))\n",
    "            print('Minimum value: {0}'.format(f.subs({var:var_max})))"
   ]
  },
  {
   "cell_type": "code",
   "execution_count": null,
   "id": "polar-custody",
   "metadata": {},
   "outputs": [],
   "source": [
    "'''\n",
    "grad_descent.py\n",
    "\n",
    "Use gradient descent to find the minimum value of a\n",
    "single variable function. This also checks for the existence\n",
    "of a solution for the equation, f'(x)=0 and plots the intermediate\n",
    "points traversed.\n",
    "'''\n",
    "\n",
    "from sympy import Derivative, Symbol, sympify, solve\n",
    "import matplotlib.pyplot as plt\n",
    "\n",
    "def grad_descent(x0, f1x, x):\n",
    "    # check if f1x=0 has a solution\n",
    "    if not solve(f1x):\n",
    "        print('Cannot continue, solution for {0}=0 does not exist'.format(f1x))\n",
    "        return None\n",
    "    epsilon =  1e-6\n",
    "    step_size = 1e-4\n",
    "    x_old = x0\n",
    "    x_new = x_old - step_size*f1x.subs({x:x_old}).evalf()\n",
    "\n",
    "    # list to store the X values traversed\n",
    "    X_traversed = []\n",
    "    while abs(x_old - x_new) > epsilon:\n",
    "        X_traversed.append(x_new)\n",
    "        x_old = x_new\n",
    "        x_new = x_old-step_size*f1x.subs({x:x_old}).evalf()\n",
    "\n",
    "    return x_new, X_traversed\n",
    "\n",
    "def frange(start, final, interval):\n",
    "\n",
    "    numbers = []\n",
    "    while start < final:\n",
    "        numbers.append(start)\n",
    "        start = start + interval\n",
    "    \n",
    "    return numbers\n",
    "\n",
    "def create_plot(X_traversed, f, var):\n",
    "    # First create the graph of the function itself\n",
    "    x_val = frange(-1, 1, 0.01)\n",
    "    f_val = [f.subs({var:x}) for x in x_val]\n",
    "    plt.plot(x_val, f_val, 'bo')\n",
    "    # calculate the function value at each of the intermediate\n",
    "    # points traversed\n",
    "    f_traversed = [f.subs({var:x}) for x in X_traversed]\n",
    "    plt.plot(X_traversed, f_traversed, 'r.')\n",
    "    plt.legend(['Function', 'Intermediate points'], loc='best')\n",
    "    plt.show()\n",
    "\n",
    "if __name__ == '__main__':\n",
    "\n",
    "    f = input('Enter a function in one variable: ')\n",
    "    var = input('Enter the variable to differentiate with respect to: ')\n",
    "    var0 = float(input('Enter the initial value of the variable: '))\n",
    "    try:\n",
    "        f = sympify(f)\n",
    "    except SympifyError:\n",
    "        print('Invalid function entered')\n",
    "    else:\n",
    "        var = Symbol(var)\n",
    "        d = Derivative(f, var).doit()\n",
    "        var_min, X_traversed = grad_descent(var0, d, var)\n",
    "        if var_min:\n",
    "            print('{0}: {1}'.format(var.name, var_min))\n",
    "            print('Minimum value: {0}'.format(f.subs({var:var_min})))\n",
    "            create_plot(X_traversed, f, var)\n"
   ]
  },
  {
   "cell_type": "code",
   "execution_count": null,
   "id": "destroyed-intensity",
   "metadata": {},
   "outputs": [],
   "source": [
    "'''\n",
    "Problem 7-3\n",
    "'''\n",
    "\n",
    "from sympy import Integral, Symbol, sympify, solve, pprint\n",
    "\n",
    "def integrate_area(f1, f2, var):\n",
    "    f = f1 - f2\n",
    "    s = solve(f, var)\n",
    "#    pprint(f)\n",
    "#    print(s)\n",
    "    area = Integral(f, (var, s[0], s[1])).doit()\n",
    "    return area\n",
    "\n",
    "if __name__=='__main__':\n",
    "    f1 = input('Enter the 1st function in one variable: ')\n",
    "    f2 = input('Enter the 2nd function in one variable: ')\n",
    "    var = input('Enter the variable to differentiate with respect to: ')\n",
    "    try:\n",
    "        f1 = sympify(f1)\n",
    "        f2 = sympify(f2)\n",
    "    except SympifyError:\n",
    "        print('Invalid function entered')\n",
    "    else:\n",
    "        var = Symbol(var)\n",
    "        area = integrate_area(f1, f2, var)\n",
    "        print(area)"
   ]
  },
  {
   "cell_type": "code",
   "execution_count": null,
   "id": "israeli-jacket",
   "metadata": {},
   "outputs": [],
   "source": [
    "'''\n",
    "area_curves.py\n",
    "\n",
    "Find the area enclosed by two curves between two points\n",
    "'''\n",
    "\n",
    "from sympy import Integral, Symbol, SympifyError, sympify\n",
    "\n",
    "def find_area(f1x, f2x, var, a, b):\n",
    "    a = Integral(f1x-f2x, (var, a, b)).doit()\n",
    "    return a\n",
    "\n",
    "if __name__ == '__main__':\n",
    "    f1x = input('Enter the upper function in one variable: ')\n",
    "    f2x = input('Enter the lower upper function in one variable: ')\n",
    "    var = input('Enter the variable: ')\n",
    "    l = float(input('Enter the lower bound of the enclosed region: '))\n",
    "    u = float(input('Enter the upper bound of the enclosed region: '))\n",
    "    \n",
    "    try:\n",
    "        f1x = sympify(f1x)\n",
    "        f2x = sympify(f2x)\n",
    "    except SympifyError:\n",
    "        print('One of the functions entered is invalid')\n",
    "    else:\n",
    "        var = Symbol(var)\n",
    "        print('Area enclosed by {0} and {1} is: {2} '.format(f1x, f2x, find_area(f1x, f2x, var, l, u)))\n"
   ]
  },
  {
   "cell_type": "code",
   "execution_count": null,
   "id": "fourth-cricket",
   "metadata": {},
   "outputs": [],
   "source": [
    "'''\n",
    "length_curve.py\n",
    "\n",
    "Find the length of a curve between two points\n",
    "'''\n",
    "\n",
    "from sympy import Derivative, Integral, Symbol, sqrt, SympifyError, sympify\n",
    "\n",
    "def find_length(fx, var, a, b):\n",
    "    deriv = Derivative(fx, var).doit()\n",
    "    length = Integral(sqrt(1+deriv**2), (var, a, b)).doit().evalf()\n",
    "    return length\n",
    "\n",
    "if __name__ == '__main__':\n",
    "    f = input('Enter a function in one variable: ')\n",
    "    var = input('Enter the variable: ')\n",
    "    l = float(input('Enter the lower limit of the variable: '))\n",
    "    u = float(input('Enter the upper limit of the variable: '))\n",
    "    \n",
    "    try:\n",
    "        f = sympify(f)\n",
    "    except SympifyError:\n",
    "        print('Invalid function entered')\n",
    "    else:\n",
    "        var = Symbol(var)\n",
    "        print('Length of {0} between {1} and {2} is: {3} '.format(f, l, u, find_length(f, var, l, u)))\n"
   ]
  },
  {
   "cell_type": "code",
   "execution_count": null,
   "id": "original-arena",
   "metadata": {},
   "outputs": [],
   "source": []
  }
 ],
 "metadata": {
  "kernelspec": {
   "display_name": "Python 3 (ipykernel)",
   "language": "python",
   "name": "python3"
  },
  "language_info": {
   "codemirror_mode": {
    "name": "ipython",
    "version": 3
   },
   "file_extension": ".py",
   "mimetype": "text/x-python",
   "name": "python",
   "nbconvert_exporter": "python",
   "pygments_lexer": "ipython3",
   "version": "3.11.2"
  }
 },
 "nbformat": 4,
 "nbformat_minor": 5
}
