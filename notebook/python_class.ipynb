{
 "cells": [
  {
   "cell_type": "code",
   "execution_count": null,
   "id": "concerned-justice",
   "metadata": {},
   "outputs": [],
   "source": [
    "# pythonのclassの勉強\n",
    "# https://camp.trainocate.co.jp/magazine/python-class/"
   ]
  },
  {
   "cell_type": "code",
   "execution_count": null,
   "id": "signal-armstrong",
   "metadata": {},
   "outputs": [],
   "source": [
    "class SimpleData:\n",
    "\n",
    "    a = 0\n",
    "    b = 0\n",
    "\n",
    "    def sum(self):\n",
    "        return self.a + self.b\n",
    "\n",
    "    def set(self, a, b):\n",
    "        self.a = a\n",
    "        self.b = b"
   ]
  },
  {
   "cell_type": "code",
   "execution_count": null,
   "id": "corporate-mileage",
   "metadata": {},
   "outputs": [],
   "source": [
    "data1 = SimpleData()\n",
    "data1.set(1, 2)\n",
    "print(data1.sum())"
   ]
  },
  {
   "cell_type": "code",
   "execution_count": null,
   "id": "miniature-experience",
   "metadata": {},
   "outputs": [],
   "source": [
    "data1 = SimpleData()\n",
    "data2 = SimpleData()\n",
    "data1.set(1, 2)\n",
    "data2.set(3, 4)\n",
    "print(data1.sum())\n",
    "print(data2.sum())"
   ]
  },
  {
   "cell_type": "code",
   "execution_count": null,
   "id": "threatened-renewal",
   "metadata": {},
   "outputs": [],
   "source": [
    "class SimpleData:\n",
    "\n",
    "    def __init__(self):\n",
    "        self.a = 0\n",
    "        self.b = 0\n",
    "\n",
    "    def sum(self):\n",
    "        return self.a + self.b\n",
    "\n",
    "    def set(self, a, b):\n",
    "        self.a = a\n",
    "        self.b = b"
   ]
  },
  {
   "cell_type": "code",
   "execution_count": null,
   "id": "polished-framing",
   "metadata": {},
   "outputs": [],
   "source": [
    "data1 = SimpleData()\n",
    "print(data1.sum())"
   ]
  },
  {
   "cell_type": "code",
   "execution_count": null,
   "id": "racial-employee",
   "metadata": {},
   "outputs": [],
   "source": [
    "class SimpleData:\n",
    "\n",
    "    def __init__(self):\n",
    "        self.a = 0\n",
    "        self.b = 0\n",
    "\n",
    "    def __init__(self, a, b):\n",
    "        self.a = a\n",
    "        self.b = b\n",
    "\n",
    "    def sum(self):\n",
    "        return self.a + self.b\n",
    "\n",
    "    def set(self, a, b):\n",
    "        self.a = a\n",
    "        self.b = b"
   ]
  },
  {
   "cell_type": "code",
   "execution_count": null,
   "id": "cooked-trouble",
   "metadata": {},
   "outputs": [],
   "source": [
    "data1 = SimpleData(1, 2)\n",
    "print(data1.sum())"
   ]
  },
  {
   "cell_type": "code",
   "execution_count": null,
   "id": "physical-rehabilitation",
   "metadata": {},
   "outputs": [],
   "source": [
    "# https://www.tech-teacher.jp/blog/python-class/"
   ]
  },
  {
   "cell_type": "code",
   "execution_count": null,
   "id": "copyrighted-server",
   "metadata": {},
   "outputs": [],
   "source": [
    "class SampleClass:\n",
    "    def say(self):\n",
    "        print(\"Hello World !\")\n"
   ]
  },
  {
   "cell_type": "code",
   "execution_count": null,
   "id": "complex-cemetery",
   "metadata": {},
   "outputs": [],
   "source": [
    "classInstance = SampleClass()"
   ]
  },
  {
   "cell_type": "code",
   "execution_count": null,
   "id": "functional-organization",
   "metadata": {},
   "outputs": [],
   "source": [
    "classInstance.say()"
   ]
  },
  {
   "cell_type": "code",
   "execution_count": null,
   "id": "metric-orleans",
   "metadata": {},
   "outputs": [],
   "source": [
    "class MyClass:\n",
    "    user_name = None   # インスタンス変数の宣言\n",
    "    age = None         # インスタンス変数の宣言\n",
    "    \n",
    "    def say(self):\n",
    "        print(\"名前：{0}、年齢：{1}\".format(self.user_name, self.age))"
   ]
  },
  {
   "cell_type": "code",
   "execution_count": null,
   "id": "considered-portugal",
   "metadata": {},
   "outputs": [],
   "source": [
    "user1 = MyClass()\n",
    "user1.user_name = \"山田\"\n",
    "user1.age = 20"
   ]
  },
  {
   "cell_type": "code",
   "execution_count": null,
   "id": "celtic-indianapolis",
   "metadata": {},
   "outputs": [],
   "source": [
    "user2 = MyClass()\n",
    "user2.user_name = \"鈴木\"\n",
    "user2.age = 40"
   ]
  },
  {
   "cell_type": "code",
   "execution_count": null,
   "id": "grateful-genetics",
   "metadata": {},
   "outputs": [],
   "source": [
    "user1.say()"
   ]
  },
  {
   "cell_type": "code",
   "execution_count": null,
   "id": "suffering-repeat",
   "metadata": {},
   "outputs": [],
   "source": [
    "user2.say()"
   ]
  },
  {
   "cell_type": "code",
   "execution_count": null,
   "id": "peaceful-drama",
   "metadata": {},
   "outputs": [],
   "source": [
    "class MyClass:\n",
    "    fruits = []\n",
    "    def __init__(self):\n",
    "        print(\"コンストラクタが呼び出されました！\")\n",
    "        # 初期化\n",
    "        self.fruits.append(\"パイナップル\")\n",
    "        self.fruits.append(\"メロン\")\n",
    "        self.fruits.append(\"イチゴ\")"
   ]
  },
  {
   "cell_type": "code",
   "execution_count": null,
   "id": "signal-speed",
   "metadata": {},
   "outputs": [],
   "source": [
    "instance = MyClass()"
   ]
  },
  {
   "cell_type": "code",
   "execution_count": null,
   "id": "exempt-market",
   "metadata": {},
   "outputs": [],
   "source": [
    "print(instance.fruits)"
   ]
  },
  {
   "cell_type": "code",
   "execution_count": null,
   "id": "matched-discretion",
   "metadata": {},
   "outputs": [],
   "source": [
    "# 継承元のクラス\n",
    "class Base:\n",
    "    base_val = \"継承元のインスタンス変数\"\n",
    "    \n",
    "    def base_function(self):\n",
    "        print(\"base_function = \" + self.base_val)\n",
    "\n",
    "# Baseを継承したSubクラス\n",
    "class Sub(Base):\n",
    "    sub_val = \"継承先のインスタンス変数\"\n",
    "    \n",
    "    def sub_function(self):\n",
    "        print(\"sub_function = : \" + self.base_val)\n",
    "        print(\"sub_function = : \" + self.sub_val)"
   ]
  },
  {
   "cell_type": "code",
   "execution_count": null,
   "id": "pleasant-female",
   "metadata": {},
   "outputs": [],
   "source": [
    "sub = Sub()\n",
    "sub.base_function()\n",
    "sub.sub_function()"
   ]
  },
  {
   "cell_type": "code",
   "execution_count": null,
   "id": "exciting-ottawa",
   "metadata": {},
   "outputs": [],
   "source": [
    "# https://www.sejuku.net/blog/28182"
   ]
  },
  {
   "cell_type": "code",
   "execution_count": null,
   "id": "convenient-principle",
   "metadata": {},
   "outputs": [],
   "source": [
    "class ClassName():\n",
    "    def __init__(self, ):\n",
    "        hogehoge"
   ]
  },
  {
   "cell_type": "code",
   "execution_count": null,
   "id": "confirmed-shopper",
   "metadata": {},
   "outputs": [],
   "source": [
    "a = ClassName()\n",
    "a"
   ]
  },
  {
   "cell_type": "code",
   "execution_count": null,
   "id": "unlikely-pickup",
   "metadata": {},
   "outputs": [],
   "source": [
    "class MyClass():\n",
    "    def __init__(self, message):\n",
    "        self.value = message"
   ]
  },
  {
   "cell_type": "code",
   "execution_count": null,
   "id": "verified-charlotte",
   "metadata": {},
   "outputs": [],
   "source": [
    "myinstance = MyClass(\"Hello!\")"
   ]
  },
  {
   "cell_type": "code",
   "execution_count": null,
   "id": "white-vintage",
   "metadata": {},
   "outputs": [],
   "source": [
    "print(myinstance.value)"
   ]
  },
  {
   "cell_type": "code",
   "execution_count": null,
   "id": "frequent-characterization",
   "metadata": {},
   "outputs": [],
   "source": [
    "myinstance2 = MyClass(\"Hello World!\")"
   ]
  },
  {
   "cell_type": "code",
   "execution_count": null,
   "id": "amino-galaxy",
   "metadata": {},
   "outputs": [],
   "source": [
    "print(myinstance2.value)"
   ]
  },
  {
   "cell_type": "code",
   "execution_count": null,
   "id": "narrative-happiness",
   "metadata": {},
   "outputs": [],
   "source": [
    "class Example():\n",
    " \n",
    "    def __init__(self, a,b,c):\n",
    "        self.num1 = a\n",
    "        self.num2 = b\n",
    "        self.num3 = c\n",
    " \n",
    "    def print_tot(self):\n",
    "        tot = self.num1+self.num2+self.num3\n",
    "        print(tot)"
   ]
  },
  {
   "cell_type": "code",
   "execution_count": null,
   "id": "eastern-reducing",
   "metadata": {},
   "outputs": [],
   "source": [
    "myinstance = Example(1,2,3)"
   ]
  },
  {
   "cell_type": "code",
   "execution_count": null,
   "id": "failing-people",
   "metadata": {},
   "outputs": [],
   "source": [
    "myinstance.print_tot()"
   ]
  },
  {
   "cell_type": "code",
   "execution_count": null,
   "id": "compatible-virginia",
   "metadata": {},
   "outputs": [],
   "source": [
    "myinstance = Example(1,2)"
   ]
  },
  {
   "cell_type": "code",
   "execution_count": null,
   "id": "rolled-concern",
   "metadata": {},
   "outputs": [],
   "source": [
    "class Oya():\n",
    "    def oya_func(self):\n",
    "        print(\"I am OYA\")\n",
    "         \n",
    "class Kodomo(Oya):\n",
    "    def kodomo_func(self):\n",
    "        print(\"I am Kodomo\")"
   ]
  },
  {
   "cell_type": "code",
   "execution_count": null,
   "id": "unnecessary-knowing",
   "metadata": {},
   "outputs": [],
   "source": [
    "k = Kodomo()\n",
    "k.oya_func()\n",
    "k.kodomo_func()"
   ]
  },
  {
   "cell_type": "code",
   "execution_count": null,
   "id": "modular-transaction",
   "metadata": {},
   "outputs": [],
   "source": [
    "# https://it-biz.online/python/class-2/"
   ]
  },
  {
   "cell_type": "code",
   "execution_count": null,
   "id": "third-apple",
   "metadata": {},
   "outputs": [],
   "source": [
    "class TestClass:\n",
    "    pass          # pass については以下で解説"
   ]
  },
  {
   "cell_type": "code",
   "execution_count": null,
   "id": "pacific-incident",
   "metadata": {},
   "outputs": [],
   "source": [
    "aaa = TestClass()"
   ]
  },
  {
   "cell_type": "code",
   "execution_count": null,
   "id": "particular-dinner",
   "metadata": {},
   "outputs": [],
   "source": [
    "bbb = TestClass()"
   ]
  },
  {
   "cell_type": "code",
   "execution_count": null,
   "id": "paperback-dryer",
   "metadata": {},
   "outputs": [],
   "source": [
    "# これは「関数」\n",
    "def sample_function():\n",
    "    print('Hello World!')"
   ]
  },
  {
   "cell_type": "code",
   "execution_count": null,
   "id": "speaking-powell",
   "metadata": {},
   "outputs": [],
   "source": [
    "sample_function()"
   ]
  },
  {
   "cell_type": "code",
   "execution_count": null,
   "id": "corrected-dominican",
   "metadata": {},
   "outputs": [],
   "source": [
    "class SampleClass1:\n",
    "    # これは「メソッド」\n",
    "    def sample_method():\n",
    "        print('Hello World!')"
   ]
  },
  {
   "cell_type": "code",
   "execution_count": null,
   "id": "chicken-today",
   "metadata": {},
   "outputs": [],
   "source": [
    "instance1 = SampleClass1()"
   ]
  },
  {
   "cell_type": "code",
   "execution_count": null,
   "id": "dietary-attendance",
   "metadata": {},
   "outputs": [],
   "source": [
    "instance1.sample_method()"
   ]
  },
  {
   "cell_type": "code",
   "execution_count": null,
   "id": "departmental-cornwall",
   "metadata": {},
   "outputs": [],
   "source": [
    "class SampleClass2:\n",
    "    # これは「メソッド」\n",
    "    def sample_method(self): # selfが必要\n",
    "        print('Hello World!')"
   ]
  },
  {
   "cell_type": "code",
   "execution_count": null,
   "id": "fuzzy-sitting",
   "metadata": {},
   "outputs": [],
   "source": [
    "instance2 = SampleClass2()"
   ]
  },
  {
   "cell_type": "code",
   "execution_count": null,
   "id": "confused-highway",
   "metadata": {},
   "outputs": [],
   "source": [
    "instance2.sample_method()"
   ]
  },
  {
   "cell_type": "code",
   "execution_count": null,
   "id": "departmental-electron",
   "metadata": {},
   "outputs": [],
   "source": [
    "class SampleClass3:\n",
    "    # メソッド１「引数messageの値を表示する」\n",
    "    def s_method1(self, message):\n",
    "        print(message)\n",
    "        \n",
    "    # メソッド２「メソッド１を呼び出す」\n",
    "    def s_method2(self):\n",
    "        self.s_method1(\"Hello World!\")"
   ]
  },
  {
   "cell_type": "code",
   "execution_count": null,
   "id": "sharp-machinery",
   "metadata": {},
   "outputs": [],
   "source": [
    "ins = SampleClass3()"
   ]
  },
  {
   "cell_type": "code",
   "execution_count": null,
   "id": "plain-contrary",
   "metadata": {},
   "outputs": [],
   "source": [
    "ins.s_method1(\"Hello\")"
   ]
  },
  {
   "cell_type": "code",
   "execution_count": null,
   "id": "intended-final",
   "metadata": {},
   "outputs": [],
   "source": [
    "ins.s_method2()"
   ]
  },
  {
   "cell_type": "code",
   "execution_count": null,
   "id": "written-arizona",
   "metadata": {},
   "outputs": [],
   "source": [
    "class Human:\n",
    "    def __init__(self,name):\n",
    "        self.name = name"
   ]
  },
  {
   "cell_type": "code",
   "execution_count": null,
   "id": "vital-insider",
   "metadata": {},
   "outputs": [],
   "source": [
    "yamada = Human('山田')\n",
    "tanaka = Human('田中')\n",
    "print(yamada.name)\n",
    "print(tanaka.name)"
   ]
  },
  {
   "cell_type": "code",
   "execution_count": null,
   "id": "emerging-smell",
   "metadata": {},
   "outputs": [],
   "source": [
    "class SampleClass():\n",
    "    def __init__(self):\n",
    "        self.aaa = 2020\n",
    "        self.bbb = \"Hello World\""
   ]
  },
  {
   "cell_type": "code",
   "execution_count": null,
   "id": "lonely-straight",
   "metadata": {},
   "outputs": [],
   "source": [
    "ins = SampleClass()"
   ]
  },
  {
   "cell_type": "code",
   "execution_count": null,
   "id": "representative-sacrifice",
   "metadata": {},
   "outputs": [],
   "source": [
    "print(ins.aaa)"
   ]
  },
  {
   "cell_type": "code",
   "execution_count": null,
   "id": "floating-unknown",
   "metadata": {},
   "outputs": [],
   "source": [
    "print(ins.bbb)"
   ]
  },
  {
   "cell_type": "code",
   "execution_count": null,
   "id": "duplicate-shakespeare",
   "metadata": {},
   "outputs": [],
   "source": [
    "class SampleClass():\n",
    "    aaa = 2021                   # 変数の初期値　⇒　2021\n",
    "    def __init__(self):\n",
    "        self.aaa = 2020"
   ]
  },
  {
   "cell_type": "code",
   "execution_count": null,
   "id": "documentary-nitrogen",
   "metadata": {},
   "outputs": [],
   "source": [
    "ins = SampleClass()"
   ]
  },
  {
   "cell_type": "code",
   "execution_count": null,
   "id": "relative-roulette",
   "metadata": {},
   "outputs": [],
   "source": [
    "print(ins.aaa)"
   ]
  },
  {
   "cell_type": "code",
   "execution_count": null,
   "id": "palestinian-destruction",
   "metadata": {},
   "outputs": [],
   "source": [
    "class SampleClass():\n",
    "    # コンストラクタ\n",
    "    def __init__(self):\n",
    "        self.aaa = 2020\n",
    "        self.bbb = \"Hello World\"\n",
    "    # デストラクタ\n",
    "    def __del__(self):\n",
    "        print(\"さようなら\")"
   ]
  },
  {
   "cell_type": "code",
   "execution_count": null,
   "id": "fifty-waste",
   "metadata": {},
   "outputs": [],
   "source": [
    "ins = SampleClass()"
   ]
  },
  {
   "cell_type": "code",
   "execution_count": null,
   "id": "excessive-breath",
   "metadata": {},
   "outputs": [],
   "source": [
    "print(ins.aaa)"
   ]
  },
  {
   "cell_type": "code",
   "execution_count": null,
   "id": "proprietary-pursuit",
   "metadata": {},
   "outputs": [],
   "source": [
    "print(ins.bbb)"
   ]
  },
  {
   "cell_type": "code",
   "execution_count": null,
   "id": "suburban-alexandria",
   "metadata": {},
   "outputs": [],
   "source": [
    "del ins # インスタンスの破棄"
   ]
  },
  {
   "cell_type": "code",
   "execution_count": null,
   "id": "violent-manufacturer",
   "metadata": {},
   "outputs": [],
   "source": [
    "class SampleClass:\n",
    "    a = 'Hello World!'    # クラス変数\n",
    "    def s_method1(self):\n",
    "        print(self.a)"
   ]
  },
  {
   "cell_type": "code",
   "execution_count": null,
   "id": "revolutionary-french",
   "metadata": {},
   "outputs": [],
   "source": [
    "ins1 = SampleClass()      # インスタンス１\n",
    "ins1.s_method1()"
   ]
  },
  {
   "cell_type": "code",
   "execution_count": null,
   "id": "hollow-cancer",
   "metadata": {},
   "outputs": [],
   "source": [
    "ins2 = SampleClass()      # インスタンス１\n",
    "ins2.s_method1()"
   ]
  },
  {
   "cell_type": "code",
   "execution_count": null,
   "id": "configured-liberia",
   "metadata": {},
   "outputs": [],
   "source": [
    "class SampleClass():\n",
    "    # コンストラクタ\n",
    "    def __init__(self,aaa):\n",
    "        self.aaa = aaa "
   ]
  },
  {
   "cell_type": "code",
   "execution_count": null,
   "id": "cosmetic-workplace",
   "metadata": {},
   "outputs": [],
   "source": [
    "ins1 = SampleClass(\"Hello!\")     # 引数aaaに「Hello!」を渡す\n",
    "print(ins1.aaa)"
   ]
  },
  {
   "cell_type": "code",
   "execution_count": null,
   "id": "stuffed-dietary",
   "metadata": {},
   "outputs": [],
   "source": [
    "ins2 = SampleClass(\"Good Bye!\")  # 引数aaaに「Good Bye!」を渡す\n",
    "print(ins2.aaa)"
   ]
  },
  {
   "cell_type": "code",
   "execution_count": null,
   "id": "underlying-exemption",
   "metadata": {},
   "outputs": [],
   "source": []
  }
 ],
 "metadata": {
  "kernelspec": {
   "display_name": "Python 3 (ipykernel)",
   "language": "python",
   "name": "python3"
  },
  "language_info": {
   "codemirror_mode": {
    "name": "ipython",
    "version": 3
   },
   "file_extension": ".py",
   "mimetype": "text/x-python",
   "name": "python",
   "nbconvert_exporter": "python",
   "pygments_lexer": "ipython3",
   "version": "3.9.1"
  }
 },
 "nbformat": 4,
 "nbformat_minor": 5
}
