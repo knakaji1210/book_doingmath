{
 "cells": [
  {
   "cell_type": "code",
   "execution_count": null,
   "metadata": {},
   "outputs": [],
   "source": [
    "simplelist = [1, 2, 3]"
   ]
  },
  {
   "cell_type": "code",
   "execution_count": null,
   "metadata": {},
   "outputs": [],
   "source": [
    "simplelist[0]"
   ]
  },
  {
   "cell_type": "code",
   "execution_count": null,
   "metadata": {},
   "outputs": [],
   "source": [
    "simplelist[1]"
   ]
  },
  {
   "cell_type": "code",
   "execution_count": null,
   "metadata": {},
   "outputs": [],
   "source": [
    "simplelist[2]"
   ]
  },
  {
   "cell_type": "code",
   "execution_count": null,
   "metadata": {},
   "outputs": [],
   "source": [
    "stringlist = ['a string', 'b string', 'c string']"
   ]
  },
  {
   "cell_type": "code",
   "execution_count": null,
   "metadata": {},
   "outputs": [],
   "source": [
    "stringlist[1]"
   ]
  },
  {
   "cell_type": "code",
   "execution_count": null,
   "metadata": {},
   "outputs": [],
   "source": [
    "emptylist = []"
   ]
  },
  {
   "cell_type": "code",
   "execution_count": null,
   "metadata": {},
   "outputs": [],
   "source": [
    "emptylist"
   ]
  },
  {
   "cell_type": "code",
   "execution_count": null,
   "metadata": {},
   "outputs": [],
   "source": [
    "emptylist.append(1)"
   ]
  },
  {
   "cell_type": "code",
   "execution_count": null,
   "metadata": {},
   "outputs": [],
   "source": [
    "emptylist"
   ]
  },
  {
   "cell_type": "code",
   "execution_count": null,
   "metadata": {},
   "outputs": [],
   "source": [
    "emptylist.append(2)"
   ]
  },
  {
   "cell_type": "code",
   "execution_count": null,
   "metadata": {},
   "outputs": [],
   "source": [
    "emptylist"
   ]
  },
  {
   "cell_type": "code",
   "execution_count": null,
   "metadata": {},
   "outputs": [],
   "source": [
    "simpletuple = (1, 2, 3)"
   ]
  },
  {
   "cell_type": "code",
   "execution_count": null,
   "metadata": {},
   "outputs": [],
   "source": [
    "simpletuple[0]"
   ]
  },
  {
   "cell_type": "code",
   "execution_count": null,
   "metadata": {},
   "outputs": [],
   "source": [
    "simplelist[-1]"
   ]
  },
  {
   "cell_type": "code",
   "execution_count": null,
   "metadata": {},
   "outputs": [],
   "source": [
    "simpletuple[-2]"
   ]
  },
  {
   "cell_type": "code",
   "execution_count": null,
   "metadata": {},
   "outputs": [],
   "source": [
    "l = [1, 2, 3]\n",
    "\n",
    "for item in l:\n",
    "    print(item)"
   ]
  },
  {
   "cell_type": "code",
   "execution_count": null,
   "metadata": {},
   "outputs": [],
   "source": [
    "l = [1, 2, 3]\n",
    "\n",
    "for index, item in enumerate(l):\n",
    "    print(index, item)"
   ]
  },
  {
   "cell_type": "code",
   "execution_count": null,
   "metadata": {},
   "outputs": [],
   "source": [
    "x_numbers = [1, 2, 3]\n",
    "y_numbers = [2, 4, 6]"
   ]
  },
  {
   "cell_type": "code",
   "execution_count": null,
   "metadata": {},
   "outputs": [],
   "source": [
    "from pylab import plot, show\n",
    "\n",
    "plot(x_numbers, y_numbers)"
   ]
  },
  {
   "cell_type": "code",
   "execution_count": null,
   "metadata": {},
   "outputs": [],
   "source": [
    "import matplotlib.pyplot as plt\n",
    "%matplotlib inline"
   ]
  },
  {
   "cell_type": "code",
   "execution_count": null,
   "metadata": {},
   "outputs": [],
   "source": [
    "plt.plot(x_numbers, y_numbers)\n",
    "plt.show()"
   ]
  },
  {
   "cell_type": "code",
   "execution_count": null,
   "metadata": {},
   "outputs": [],
   "source": [
    "plt.plot(x_numbers, y_numbers, marker='o')\n",
    "plt.show()"
   ]
  },
  {
   "cell_type": "code",
   "execution_count": null,
   "metadata": {},
   "outputs": [],
   "source": [
    "plt.plot(x_numbers, y_numbers, marker='*')\n",
    "plt.show()"
   ]
  },
  {
   "cell_type": "code",
   "execution_count": null,
   "metadata": {},
   "outputs": [],
   "source": [
    "plt.plot(x_numbers, y_numbers, marker='x')\n",
    "plt.show()"
   ]
  },
  {
   "cell_type": "code",
   "execution_count": null,
   "metadata": {},
   "outputs": [],
   "source": [
    "plt.plot(x_numbers, y_numbers, marker='+')\n",
    "plt.show()"
   ]
  },
  {
   "cell_type": "code",
   "execution_count": null,
   "metadata": {},
   "outputs": [],
   "source": [
    "plt.plot(x_numbers, y_numbers, 'o')\n",
    "plt.show()"
   ]
  },
  {
   "cell_type": "code",
   "execution_count": null,
   "metadata": {},
   "outputs": [],
   "source": [
    "nyc_temp = [53.9, 56.3, 56.4, 53.4, 54.5, 55.8, 56.8, 55.0, 55.3, 54.0, 56.7, 56.4, 57.3]\n",
    "plt.plot(nyc_temp, marker='o')\n",
    "plt.show()"
   ]
  },
  {
   "cell_type": "code",
   "execution_count": null,
   "metadata": {},
   "outputs": [],
   "source": [
    "nyc_temp = [53.9, 56.3, 56.4, 53.4, 54.5, 55.8, 56.8, 55.0, 55.3, 54.0, 56.7, 56.4, 57.3]\n",
    "years = range(2000, 2013)\n",
    "plt.plot(years, nyc_temp, marker='o')\n",
    "plt.show()"
   ]
  },
  {
   "cell_type": "code",
   "execution_count": null,
   "metadata": {},
   "outputs": [],
   "source": [
    "nyc_temp_2000 = [31.3, 37.3, 47.2, 51.0, 63.5, 71.3, 72.3, 72.7, 66.0, 57.0, 45.3, 31.1]\n",
    "nyc_temp_2006 = [40.9, 35.7, 43.1, 55.7, 63.1, 71.0, 77.9, 75.8, 66.6, 56.2, 51.9, 43.6]\n",
    "nyc_temp_2012 = [37.3, 40.9, 50.9, 54.8, 65.1, 71.0, 78.8, 76.7, 68.8, 58.0, 43.9, 41.5]"
   ]
  },
  {
   "cell_type": "code",
   "execution_count": null,
   "metadata": {},
   "outputs": [],
   "source": [
    "months = range(1, 13)\n",
    "plt.plot(months, nyc_temp_2000, months, nyc_temp_2006, months, nyc_temp_2012)\n",
    "plt.show()"
   ]
  },
  {
   "cell_type": "code",
   "execution_count": null,
   "metadata": {},
   "outputs": [],
   "source": [
    "plt.plot(months, nyc_temp_2000)\n",
    "plt.plot(months, nyc_temp_2006)\n",
    "plt.plot(months, nyc_temp_2012)\n",
    "plt.legend([2000, 2006, 2012])\n",
    "plt.show()"
   ]
  },
  {
   "cell_type": "code",
   "execution_count": null,
   "metadata": {},
   "outputs": [],
   "source": [
    "import matplotlib.pyplot as plt\n",
    "plt.plot(months, nyc_temp_2000, months, nyc_temp_2006, months, nyc_temp_2012)\n",
    "plt.title('Average monthly temperature in NYC')\n",
    "plt.xlabel('Month')\n",
    "plt.ylabel('Temperature')\n",
    "plt.legend([2000, 2006, 2012])\n",
    "plt.show()"
   ]
  },
  {
   "cell_type": "code",
   "execution_count": null,
   "metadata": {},
   "outputs": [],
   "source": [
    "nyc_temp = [53.9, 56.3, 56.4, 53.4, 54.5, 55.8, 56.8, 55.0, 55.3, 54.0, 56.7, 56.4, 57.3]\n",
    "plt.plot(nyc_temp, marker='o')\n",
    "#from matplotlib.pyplot import axis\n",
    "plt.axis()"
   ]
  },
  {
   "cell_type": "code",
   "execution_count": null,
   "metadata": {},
   "outputs": [],
   "source": [
    "nyc_temp = [53.9, 56.3, 56.4, 53.4, 54.5, 55.8, 56.8, 55.0, 55.3, 54.0, 56.7, 56.4, 57.3]\n",
    "plt.plot(nyc_temp, marker='o')\n",
    "#from matplotlib.pyplot import axis\n",
    "plt.axis(ymin=0)\n",
    "plt.show()"
   ]
  },
  {
   "cell_type": "code",
   "execution_count": null,
   "metadata": {},
   "outputs": [],
   "source": [
    "'''\n",
    "Simple plot using pyplot\n",
    "'''\n",
    "\n",
    "import matplotlib.pyplot as plt\n",
    "\n",
    "def create_graph():\n",
    "    x_numbers = [1, 2, 3]\n",
    "    y_numbers = [2, 4, 6]\n",
    "    plt.plot(x_numbers, y_numbers)\n",
    "    plt.show()\n",
    "    \n",
    "if __name__ == '__main__':\n",
    "    create_graph()"
   ]
  },
  {
   "cell_type": "code",
   "execution_count": null,
   "metadata": {},
   "outputs": [],
   "source": [
    "import matplotlib.pyplot as plt\n",
    "\n",
    "x = [1, 2, 3]\n",
    "y = [2, 4, 6]\n",
    "plt.plot(x, y)\n",
    "plt.savefig('./png/mygraph.png')"
   ]
  },
  {
   "cell_type": "code",
   "execution_count": null,
   "metadata": {},
   "outputs": [],
   "source": [
    "'''\n",
    "The relationship between gravitational force and distance between two bodies\n",
    "'''\n",
    "\n",
    "import matplotlib.pyplot as plt\n",
    "\n",
    "# draw the graph\n",
    "def draw_graph(x, y):\n",
    "    plt.plot(x, y, marker='o')\n",
    "    plt.xlabel('Distance in meters')\n",
    "    plt.ylabel('Gravitational force in newtons')\n",
    "    plt.title('Graviational force and distance')\n",
    "    plt.show()\n",
    "\n",
    "def generate_F_r():\n",
    "    # generate values for r\n",
    "    r = range(100, 1001, 50)\n",
    "    # empty list to store the calculated values of F\n",
    "    F = []\n",
    "    # constant, G\n",
    "    G = 6.674*(10**-11)\n",
    "    # two masses\n",
    "    m1 = 0.5\n",
    "    m2 = 1.5\n",
    "    # calculate Force and add it to the list, F\n",
    "    for dist in r:\n",
    "        force = G*(m1*m2)/(dist**2)\n",
    "        F.append(force)\n",
    "        \n",
    "    #call the draw_graph function\n",
    "    draw_graph(r, F)\n",
    "\n",
    "if __name__ == '__main__':\n",
    "    generate_F_r()"
   ]
  },
  {
   "cell_type": "code",
   "execution_count": null,
   "metadata": {},
   "outputs": [],
   "source": [
    "'''\n",
    "Draw the trajectory of a body in projectile motion\n",
    "'''\n",
    "\n",
    "import matplotlib.pyplot as plt\n",
    "import math\n",
    "\n",
    "def draw_graph(x, y):\n",
    "    plt.plot(x, y)\n",
    "    plt.xlabel('x-coordinate')\n",
    "    plt.ylabel('y-coordinate')\n",
    "    plt.title('Projectile motion of a ball')\n",
    "\n",
    "def frange(start, final, interval):\n",
    "    numbers = []\n",
    "    while start < final:\n",
    "        numbers.append(start)\n",
    "        start = start + interval\n",
    "    return numbers\n",
    "\n",
    "def draw_trajectory(u, theta):\n",
    "    theta = math.radians(theta)\n",
    "    g = 9.8\n",
    "    # Time of flight\n",
    "    t_flight = 2 * u * math.sin(theta)/g\n",
    "    # find time intervals\n",
    "    intervals = frange(0, t_flight, 0.001)\n",
    "    # list of x and y coordinates\n",
    "    x = []\n",
    "    y = []\n",
    "    for t in intervals:\n",
    "        x.append(u * math.cos(theta) * t)\n",
    "        y.append(u * math.sin(theta) * t - 0.5 * g * t * t)\n",
    "    draw_graph(x, y)\n",
    "    \n",
    "if __name__ == '__main__':\n",
    "    try:\n",
    "        u = float(input('Enter the initial velocity (m/s): '))\n",
    "        theta = float(input('Enter the angle of projection (degrees): '))\n",
    "    except ValueError:\n",
    "        print('You entered an invalid input')\n",
    "    else:\n",
    "        draw_trajectory(u, theta)\n",
    "        plt.show()\n"
   ]
  },
  {
   "cell_type": "code",
   "execution_count": null,
   "metadata": {},
   "outputs": [],
   "source": [
    "'''\n",
    "Draw the trajectory of a body in projectile motion\n",
    "'''\n",
    "\n",
    "import matplotlib.pyplot as plt\n",
    "import math\n",
    "\n",
    "def draw_graph(x, y):\n",
    "    plt.plot(x, y)\n",
    "    plt.xlabel('x-coordinate')\n",
    "    plt.ylabel('y-coordinate')\n",
    "    plt.title('Projectile motion at different initial velocities')\n",
    "\n",
    "def frange(start, final, interval):\n",
    "    numbers = []\n",
    "    while start < final:\n",
    "        numbers.append(start)\n",
    "        start = start + interval\n",
    "    return numbers\n",
    "\n",
    "def draw_trajectory(u, theta):\n",
    "    theta = math.radians(theta)\n",
    "    g = 9.8\n",
    "    # Time of flight\n",
    "    t_flight = 2 * u * math.sin(theta)/g\n",
    "    # find time intervals\n",
    "    intervals = frange(0, t_flight, 0.001)\n",
    "    # list of x and y coordinates\n",
    "    x = []\n",
    "    y = []\n",
    "    for t in intervals:\n",
    "        x.append(u * math.cos(theta) * t)\n",
    "        y.append(u * math.sin(theta) * t - 0.5 * g * t * t)\n",
    "    draw_graph(x, y)\n",
    "    \n",
    "if __name__ == '__main__':\n",
    "    \n",
    "    # list of three diifferent initial velocity\n",
    "    u_list = [20, 40, 60]\n",
    "    theta = 45\n",
    "    for u in u_list:\n",
    "        draw_trajectory(u, theta)\n",
    "        \n",
    "    # add a legend and show the graph\n",
    "    plt.legend(['20', '40', '60'])\n",
    "    plt.show()"
   ]
  },
  {
   "cell_type": "code",
   "execution_count": null,
   "metadata": {},
   "outputs": [],
   "source": []
  },
  {
   "cell_type": "code",
   "execution_count": null,
   "metadata": {},
   "outputs": [],
   "source": [
    "'''\n",
    "nyc_forecast_basic.py\n",
    "\n",
    "Create a graph showing a city's temperature forecast for the day.\n",
    "'''\n",
    "import matplotlib.pyplot as plt\n",
    "\n",
    "def plot_forecast():\n",
    "\n",
    "    time_of_day = ['4 AM', '7 AM', '10 AM', '1 PM', '4 PM', '7PM', '10 PM']\n",
    "    forecast_temp = [71, 70, 74, 80, 82, 81, 76]\n",
    "    time_interval = range(1, len(time_of_day) + 1)\n",
    "\n",
    "    plt.plot(time_interval, forecast_temp, 'o-')\n",
    "    plt.xticks(time_interval, time_of_day)\n",
    "    plt.show()\n",
    "\n",
    "if __name__ == '__main__':\n",
    "    plot_forecast()\n"
   ]
  },
  {
   "cell_type": "code",
   "execution_count": null,
   "metadata": {},
   "outputs": [],
   "source": [
    "'''\n",
    "Retrieve a day's forecast of New York City and create a graph\n",
    "Using https://github.com/csparpa/pyowm\n",
    "\n",
    "(参考にできるURL)\n",
    "https://dev.classmethod.jp/articles/openweather_-pyowm/\n",
    "'''\n",
    "import matplotlib.pyplot as plt\n",
    "from pyowm import OWM\n",
    "\n",
    "def get_forecast(city):\n",
    "    fc = owm.daily_forecast(city, limit=1)\n",
    "    f = fc.get_forecast()\n",
    "    w = f.get_weathers()[0]\n",
    "    forecast_temp = w.get_temperature('celsius')\n",
    "    day_intervals = ['morn', 'day', 'eve', 'night']\n",
    "    temp = []\n",
    "    for timeofday in day_intervals:\n",
    "        temp.append(forecast_temp[point])\n",
    "    x = range(1, len(day_intervals)+1)\n",
    "    plt.plot(x, temp, 'o-')\n",
    "    plt.xticks(x, day_intervals)\n",
    "    plt.show()\n",
    "\n",
    "if __name__ == '__main__':\n",
    "    get_forecast('new york, us')"
   ]
  },
  {
   "cell_type": "code",
   "execution_count": null,
   "metadata": {},
   "outputs": [],
   "source": [
    "'''\n",
    "Quadratic function calculator\n",
    "'''\n",
    "\n",
    "# assume values of x\n",
    "x_values = [-1, 1, 2, 3, 4, 5]\n",
    "for x in x_values:\n",
    "    # calculate the value of the quadratic\n",
    "    # function\n",
    "    y = x**2 + 2*x + 1\n",
    "    print('x = {0}, y = {1}'.format(x, y))\n"
   ]
  },
  {
   "cell_type": "code",
   "execution_count": null,
   "metadata": {},
   "outputs": [],
   "source": [
    "'''\n",
    "quad_function_plot.py\n",
    "\n",
    "Plot a Quadratic function \n",
    "'''\n",
    "\n",
    "import matplotlib.pyplot as plt\n",
    "\n",
    "def draw_graph(x, y):\n",
    "    plt.plot(x, y)\n",
    "    plt.show()\n",
    "\n",
    "if __name__ == '__main__':\n",
    "    # assume values of x\n",
    "    x_values = range(-100, 100, 20)\n",
    "    y_values = []\n",
    "    for x in x_values:\n",
    "        # calculate the value of the quadratic\n",
    "        # function\n",
    "        y_values.append(x**2 + 2*x + 1)\n",
    "    draw_graph(x_values, y_values)\n"
   ]
  },
  {
   "cell_type": "code",
   "execution_count": null,
   "metadata": {},
   "outputs": [],
   "source": [
    "\"\"\"\n",
    "\n",
    "projectile_comparison_gen.py\n",
    "\n",
    "Compare the projectile motion of a body thrown with various combinations of initial \n",
    "velocity and angle of projection.\n",
    "\"\"\"\n",
    "\n",
    "import matplotlib.pyplot as plt\n",
    "import math\n",
    "\n",
    "g = 9.8\n",
    "\n",
    "def draw_graph(x, y):\n",
    "    plt.plot(x, y)\n",
    "    plt.xlabel('x-coordinate')\n",
    "    plt.ylabel('y-coordinate')\n",
    "    plt.title('Projectile motion at different initial velocities and angles')\n",
    "    \n",
    "def frange(start, final, interval):\n",
    "\n",
    "    numbers = []\n",
    "    while start < final:\n",
    "        numbers.append(start)\n",
    "        start = start + interval\n",
    "    \n",
    "    return numbers\n",
    "\n",
    "def draw_trajectory(u, theta, t_flight):\n",
    "    # list of x and y co-ordinates\n",
    "    x = []\n",
    "    y = []\n",
    "    intervals = frange(0, t_flight, 0.001)\n",
    "    for t in intervals:\n",
    "        x.append(u*math.cos(theta)*t)\n",
    "        y.append(u*math.sin(theta)*t - 0.5*g*t*t)\n",
    "\n",
    "    #create the graph\n",
    "    draw_graph(x, y)\n",
    "\n",
    "if __name__ == '__main__':\n",
    "\n",
    "    num_trajectories = int(input('How many trajectories? '))\n",
    "    \n",
    "    velocities = []\n",
    "    angles = []\n",
    "    for i in range(1, num_trajectories+1):\n",
    "        v = input('Enter the initial velocity for trajectory {0} (m/s): '.format(i))\n",
    "        theta = input('Enter the angle of projection for trajectory {0} (degrees): '.format(i))\n",
    "        velocities.append(float(v))\n",
    "        angles.append(math.radians(float(theta)))\n",
    "\n",
    "    for i in range(num_trajectories):\n",
    "        # calculate time of flight, maximum horizontal distance and\n",
    "        # maximum vertical distance\n",
    "        t_flight = 2*velocities[i]*math.sin(angles[i])/g\n",
    "        S_x = velocities[i]*math.cos(angles[i])*t_flight\n",
    "        S_y = velocities[i]*math.sin(angles[i])*(t_flight/2) - (1/2)*g*(t_flight/2)**2\n",
    "        print('Initial velocity: {0} Angle of Projection: {1}'.format(velocities[i], math.degrees(angles[i])))\n",
    "        print('T: {0} S_x: {1} S_y: {2}'.format(t_flight, S_x, S_y))\n",
    "        print()\n",
    "        draw_trajectory(velocities[i], angles[i], t_flight)\n",
    "        \n",
    "    # Add a legend and show the graph\n",
    "    legends = []\n",
    "    for i in range(0, num_trajectories):\n",
    "        legends.append('{0} - {1}'.format(velocities[i], math.degrees(angles[i])))\n",
    "    plt.legend(legends)\n",
    "    plt.show()\n"
   ]
  },
  {
   "cell_type": "code",
   "execution_count": null,
   "metadata": {},
   "outputs": [],
   "source": [
    "'''\n",
    "expenditures_barchart.py\n",
    "\n",
    "Visualizing the weekly expenditure using a bar chart\n",
    "'''\n",
    "\n",
    "import matplotlib.pyplot as plt\n",
    "\n",
    "def create_bar_chart(data, labels):\n",
    "    # number of bars\n",
    "    num_bars = len(data)\n",
    "    # this list is the point on the y-axis where each\n",
    "    # bar is centered. Here it will be [1, 2, 3..]\n",
    "    positions = range(1, num_bars+1)\n",
    "    plt.barh(positions, data, align='center')\n",
    "    # set the label of each bar\n",
    "    plt.yticks(positions, labels)\n",
    "    plt.xlabel('Amount')\n",
    "    plt.ylabel('Categories')\n",
    "    plt.title('Weekly expenditures')\n",
    "    # Turns on the grid which may assist in visual estimation\n",
    "    plt.grid()\n",
    "    plt.show()\n",
    "\n",
    "if __name__ == '__main__':\n",
    "    n = int(input('Enter the number of categories: '))\n",
    "    labels = []\n",
    "    expenditures = []\n",
    "    for i in range(n):\n",
    "        category = input('Enter category: ')\n",
    "        expenditure = float(input('Expenditure: '))\n",
    "        labels.append(category)\n",
    "        expenditures.append(expenditure)\n",
    "    create_bar_chart(expenditures, labels)\n"
   ]
  },
  {
   "cell_type": "code",
   "execution_count": null,
   "metadata": {},
   "outputs": [],
   "source": [
    "'''\n",
    "Example of drawing a horizontal bar chart\n",
    "'''\n",
    "\n",
    "import matplotlib.pyplot as plt\n",
    "\n",
    "def create_bar_chart(data, labels):\n",
    "    # number of bars\n",
    "    num_bars = len(data)\n",
    "    # this list is the point on the y-axis where each\n",
    "    # bar is centered. Here it will be [1, 2, 3..]\n",
    "    positions = range(1, num_bars + 1)\n",
    "    plt.barh(positions, data, align='center')\n",
    "    # set the labels of each bar\n",
    "    plt.yticks(positions, labels)\n",
    "    plt.xlabel('Steps')\n",
    "    plt.ylabel('Day')\n",
    "    plt.title('Number of steps walked')\n",
    "    # turn on the grid which may assist in visual estimation\n",
    "    plt.grid()\n",
    "    plt.show()\n",
    "    \n",
    "if __name__ == '__main__':\n",
    "    # Number of steps I walked during the past week\n",
    "    steps = [6534, 7000, 8900, 10786, 3467, 11045, 5095]\n",
    "    # Corresponidng days\n",
    "    labels = ['Sun', 'Mon', 'Tue', 'Wed', 'Thu','Fri', 'Sat']\n",
    "    create_bar_chart(steps, labels)\n",
    "    "
   ]
  },
  {
   "cell_type": "code",
   "execution_count": null,
   "metadata": {},
   "outputs": [],
   "source": [
    "'''\n",
    "fibonacci_goldenration.py\n",
    "\n",
    "Relationship between Fibonacci sequence and Golden ratio\n",
    "'''\n",
    "\n",
    "import matplotlib.pyplot as plt\n",
    "\n",
    "def fibo(n):\n",
    "    if n == 1:\n",
    "        return [1]\n",
    "    if n == 2:\n",
    "        return [1, 1]\n",
    "    # n > 2\n",
    "    a = 1\n",
    "    b = 1\n",
    "    # first two members of the series\n",
    "    series = [a, b]\n",
    "    for i in range(n):\n",
    "        c = a + b\n",
    "        series.append(c)\n",
    "        a = b\n",
    "        b = c\n",
    "\n",
    "    return series\n",
    "\n",
    "def plot_ratio(series):\n",
    "    ratios = []\n",
    "    for i in range(len(series)-1):\n",
    "        ratios.append(series[i+1]/series[i])\n",
    "    plt.plot(ratios)\n",
    "    plt.title('Ratio between Fibonacci numbers & Golden ratio')\n",
    "    plt.ylabel('Ratio')\n",
    "    plt.xlabel('No.')\n",
    "    plt.show()\n",
    "\n",
    "if __name__ == '__main__':\n",
    "    # Number of fibonacci numbers\n",
    "    num = 100\n",
    "    series = fibo(num)\n",
    "    plot_ratio(series)\n"
   ]
  },
  {
   "cell_type": "code",
   "execution_count": null,
   "metadata": {},
   "outputs": [],
   "source": []
  }
 ],
 "metadata": {
  "kernelspec": {
   "display_name": "Python 3 (ipykernel)",
   "language": "python",
   "name": "python3"
  },
  "language_info": {
   "codemirror_mode": {
    "name": "ipython",
    "version": 3
   },
   "file_extension": ".py",
   "mimetype": "text/x-python",
   "name": "python",
   "nbconvert_exporter": "python",
   "pygments_lexer": "ipython3",
   "version": "3.11.2"
  }
 },
 "nbformat": 4,
 "nbformat_minor": 2
}
