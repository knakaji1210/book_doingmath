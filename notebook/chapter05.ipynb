{
 "cells": [
  {
   "cell_type": "code",
   "execution_count": null,
   "id": "animated-custody",
   "metadata": {},
   "outputs": [],
   "source": [
    "from sympy import FiniteSet\n",
    "s = FiniteSet(2, 4, 6)\n",
    "s"
   ]
  },
  {
   "cell_type": "code",
   "execution_count": null,
   "id": "deadly-martin",
   "metadata": {},
   "outputs": [],
   "source": [
    "from sympy import FiniteSet\n",
    "from fractions import Fraction\n",
    "s = FiniteSet(1, 1.5, Fraction(1,5))\n",
    "s"
   ]
  },
  {
   "cell_type": "code",
   "execution_count": null,
   "id": "extended-porcelain",
   "metadata": {},
   "outputs": [],
   "source": [
    "from sympy import FiniteSet\n",
    "from fractions import Fraction\n",
    "s = FiniteSet(1, 1.5, Fraction(1,5))\n",
    "len(s)"
   ]
  },
  {
   "cell_type": "code",
   "execution_count": null,
   "id": "shaped-disaster",
   "metadata": {},
   "outputs": [],
   "source": [
    "4 in s"
   ]
  },
  {
   "cell_type": "code",
   "execution_count": null,
   "id": "virgin-parade",
   "metadata": {},
   "outputs": [],
   "source": [
    "1 in s"
   ]
  },
  {
   "cell_type": "code",
   "execution_count": null,
   "id": "appreciated-variety",
   "metadata": {},
   "outputs": [],
   "source": [
    "e = FiniteSet()\n",
    "e"
   ]
  },
  {
   "cell_type": "code",
   "execution_count": null,
   "id": "subject-steps",
   "metadata": {},
   "outputs": [],
   "source": [
    "members = [1, 2, 3]\n",
    "s = FiniteSet(*members)\n",
    "s"
   ]
  },
  {
   "cell_type": "code",
   "execution_count": null,
   "id": "egyptian-treatment",
   "metadata": {},
   "outputs": [],
   "source": [
    "from sympy import FiniteSet\n",
    "members = [1, 2, 3, 2]\n",
    "FiniteSet(*members)"
   ]
  },
  {
   "cell_type": "code",
   "execution_count": null,
   "id": "sunset-illustration",
   "metadata": {},
   "outputs": [],
   "source": [
    "from sympy import FiniteSet\n",
    "s = FiniteSet(1, 2, 3)\n",
    "for member in s:\n",
    "    print(member)"
   ]
  },
  {
   "cell_type": "code",
   "execution_count": null,
   "id": "intermediate-introduction",
   "metadata": {},
   "outputs": [],
   "source": [
    "from sympy import FiniteSet\n",
    "s = FiniteSet(3, 4, 5)\n",
    "t = FiniteSet(5, 4, 3)\n",
    "s == t"
   ]
  },
  {
   "cell_type": "code",
   "execution_count": null,
   "id": "hired-mountain",
   "metadata": {},
   "outputs": [],
   "source": [
    "from sympy import FiniteSet\n",
    "s = FiniteSet(1)\n",
    "t = FiniteSet(1, 2)\n",
    "s.is_subset(t)"
   ]
  },
  {
   "cell_type": "code",
   "execution_count": null,
   "id": "daily-enemy",
   "metadata": {},
   "outputs": [],
   "source": [
    "from sympy import FiniteSet\n",
    "s = FiniteSet(1)\n",
    "t = FiniteSet(1, 2)\n",
    "t.is_subset(s)"
   ]
  },
  {
   "cell_type": "code",
   "execution_count": null,
   "id": "ongoing-ratio",
   "metadata": {},
   "outputs": [],
   "source": [
    "from sympy import FiniteSet\n",
    "s = FiniteSet(1)\n",
    "t = FiniteSet(1, 2)\n",
    "e = FiniteSet()\n",
    "e.is_subset(s)"
   ]
  },
  {
   "cell_type": "code",
   "execution_count": null,
   "id": "medical-consensus",
   "metadata": {},
   "outputs": [],
   "source": [
    "from sympy import FiniteSet\n",
    "s = FiniteSet(1)\n",
    "t = FiniteSet(1, 2)\n",
    "e = FiniteSet()\n",
    "s.is_subset(s)"
   ]
  },
  {
   "cell_type": "code",
   "execution_count": null,
   "id": "blond-marketplace",
   "metadata": {},
   "outputs": [],
   "source": [
    "from sympy import FiniteSet\n",
    "s = FiniteSet(1)\n",
    "t = FiniteSet(1, 2)\n",
    "t.is_superset(s)"
   ]
  },
  {
   "cell_type": "code",
   "execution_count": null,
   "id": "dense-harbor",
   "metadata": {},
   "outputs": [],
   "source": [
    "from sympy import FiniteSet\n",
    "s = FiniteSet(1, 2, 3)\n",
    "ps = s.powerset()\n",
    "ps"
   ]
  },
  {
   "cell_type": "code",
   "execution_count": null,
   "id": "seven-checklist",
   "metadata": {},
   "outputs": [],
   "source": [
    "from sympy import FiniteSet\n",
    "s = FiniteSet(1, 2, 3)\n",
    "ps = s.powerset()\n",
    "len(ps)"
   ]
  },
  {
   "cell_type": "code",
   "execution_count": null,
   "id": "varied-watershed",
   "metadata": {},
   "outputs": [],
   "source": [
    "from sympy import FiniteSet\n",
    "s = FiniteSet(1, 2, 3)\n",
    "t = FiniteSet(1, 2, 3)\n",
    "s.is_proper_subset(t)"
   ]
  },
  {
   "cell_type": "code",
   "execution_count": null,
   "id": "english-allowance",
   "metadata": {},
   "outputs": [],
   "source": [
    "from sympy import FiniteSet\n",
    "s = FiniteSet(1, 2, 3)\n",
    "t = FiniteSet(1, 2, 3, 4)\n",
    "s.is_proper_subset(t)"
   ]
  },
  {
   "cell_type": "code",
   "execution_count": null,
   "id": "infrared-pantyhose",
   "metadata": {},
   "outputs": [],
   "source": [
    "from sympy import FiniteSet\n",
    "s = FiniteSet(1, 2, 3)\n",
    "t = FiniteSet(2, 4, 6)\n",
    "s.union(t)"
   ]
  },
  {
   "cell_type": "code",
   "execution_count": null,
   "id": "laden-victoria",
   "metadata": {},
   "outputs": [],
   "source": [
    "from sympy import FiniteSet\n",
    "s = FiniteSet(1, 2)\n",
    "t = FiniteSet(2, 3)\n",
    "s.intersect(t)"
   ]
  },
  {
   "cell_type": "code",
   "execution_count": null,
   "id": "passing-tsunami",
   "metadata": {},
   "outputs": [],
   "source": [
    "from sympy import FiniteSet\n",
    "s = FiniteSet(1, 2, 3)\n",
    "t = FiniteSet(2, 4, 6)\n",
    "u = FiniteSet(3, 5, 7)\n",
    "s.union(t).union(u)"
   ]
  },
  {
   "cell_type": "code",
   "execution_count": null,
   "id": "central-transsexual",
   "metadata": {},
   "outputs": [],
   "source": [
    "from sympy import FiniteSet\n",
    "s = FiniteSet(1, 2, 3)\n",
    "t = FiniteSet(2, 4, 6)\n",
    "u = FiniteSet(3, 5, 7)\n",
    "s.intersect(t).intersect(u)"
   ]
  },
  {
   "cell_type": "code",
   "execution_count": null,
   "id": "decimal-sequence",
   "metadata": {},
   "outputs": [],
   "source": [
    "from sympy import FiniteSet\n",
    "s = FiniteSet(1, 2)\n",
    "t = FiniteSet(3, 4)\n",
    "p = s*t\n",
    "p"
   ]
  },
  {
   "cell_type": "code",
   "execution_count": null,
   "id": "spare-carry",
   "metadata": {},
   "outputs": [],
   "source": [
    "from sympy import FiniteSet\n",
    "s = FiniteSet(1, 2)\n",
    "t = FiniteSet(3, 4)\n",
    "p = s*t\n",
    "for elem in p:\n",
    "    print(elem)"
   ]
  },
  {
   "cell_type": "code",
   "execution_count": null,
   "id": "front-bread",
   "metadata": {},
   "outputs": [],
   "source": [
    "len(p) == len(s)*len(t)"
   ]
  },
  {
   "cell_type": "code",
   "execution_count": null,
   "id": "attempted-globe",
   "metadata": {},
   "outputs": [],
   "source": [
    "from sympy import FiniteSet\n",
    "s = FiniteSet(1, 2)\n",
    "p = s**3\n",
    "p"
   ]
  },
  {
   "cell_type": "code",
   "execution_count": null,
   "id": "hourly-habitat",
   "metadata": {},
   "outputs": [],
   "source": [
    "from sympy import FiniteSet\n",
    "s = FiniteSet(1, 2)\n",
    "p = s**3\n",
    "for elem in p:\n",
    "    print(elem)"
   ]
  },
  {
   "cell_type": "code",
   "execution_count": null,
   "id": "bridal-birthday",
   "metadata": {},
   "outputs": [],
   "source": [
    "from sympy import FiniteSet, pi\n",
    "\n",
    "def time_period(length):\n",
    "    g = 9.8\n",
    "    T = 2*pi*(length/g)**0.5\n",
    "    return T\n",
    "\n",
    "if __name__=='__main__':\n",
    "    L = FiniteSet(15, 18, 21, 22.5, 25)\n",
    "    for l in L:\n",
    "        t = time_period(l/100)\n",
    "        print('Length: {0} cm -> Time Period: {1:.3f} s'.format(float(l), float(t)))"
   ]
  },
  {
   "cell_type": "code",
   "execution_count": null,
   "id": "suspended-sapphire",
   "metadata": {},
   "outputs": [],
   "source": [
    "from sympy import FiniteSet, pi\n",
    "\n",
    "def time_period(length, g):\n",
    "    T = 2*pi*(length/g)**0.5\n",
    "    return T\n",
    "\n",
    "if __name__=='__main__':\n",
    "    L = FiniteSet(15, 18, 21, 22.5, 25)\n",
    "    g_values = FiniteSet(9.8, 9.78, 9.83)\n",
    "    print('{0:^15}{1:^15}{2:^15}'.format('Length(cm)','Gravity(m/s^2)','Time Period(s)'))\n",
    "    for elem in L*g_values:\n",
    "        l = elem[0]\n",
    "        g = elem[1]\n",
    "        t = time_period(l/100, g)\n",
    "        \n",
    "        print('{0:^15}{1:^15}{2:^15.3f}'.format(float(l), float(g),float(t)))"
   ]
  },
  {
   "cell_type": "code",
   "execution_count": null,
   "id": "specified-eugene",
   "metadata": {},
   "outputs": [],
   "source": [
    "def probability(space, event):\n",
    "    return len(event)/len(space)\n",
    "\n",
    "def check_prime(number):\n",
    "    if number != 1:\n",
    "        for factor in range(2, number):\n",
    "            if number % factor == 0:\n",
    "                return False\n",
    "    else:\n",
    "        return False\n",
    "    return True\n",
    "\n",
    "if __name__=='__main__':\n",
    "    space = FiniteSet(*range(1,21))\n",
    "    primes = []\n",
    "    for num in space:\n",
    "        if check_prime(num):\n",
    "            primes.append(num)\n",
    "    event = FiniteSet(*primes)\n",
    "    p = probability(space, event)\n",
    "    \n",
    "    print('Sample space: {0}'.format(space))\n",
    "    print('Event: {0}'.format(event))\n",
    "    print('Probability of rolling a prime: {0:.5f}'.format(p))"
   ]
  },
  {
   "cell_type": "code",
   "execution_count": null,
   "id": "married-click",
   "metadata": {},
   "outputs": [],
   "source": [
    "from sympy import FiniteSet\n",
    "s = FiniteSet(1, 2, 3, 4, 5, 6)\n",
    "a = FiniteSet(2, 3, 5)\n",
    "b = FiniteSet(1, 3, 5)\n",
    "e = a.union(b)\n",
    "print(e)\n",
    "len(e)/len(s)"
   ]
  },
  {
   "cell_type": "code",
   "execution_count": null,
   "id": "rough-ethics",
   "metadata": {},
   "outputs": [],
   "source": [
    "from sympy import FiniteSet\n",
    "s = FiniteSet(1, 2, 3, 4, 5, 6)\n",
    "a = FiniteSet(2, 3, 5)\n",
    "b = FiniteSet(1, 3, 5)\n",
    "e = a.intersect(b)\n",
    "print(e)\n",
    "len(e)/len(s)"
   ]
  },
  {
   "cell_type": "code",
   "execution_count": null,
   "id": "ecological-concrete",
   "metadata": {},
   "outputs": [],
   "source": [
    "import random as rd\n",
    "rd.randint(1, 6)"
   ]
  },
  {
   "cell_type": "code",
   "execution_count": null,
   "id": "french-dealing",
   "metadata": {},
   "outputs": [],
   "source": [
    "'''\n",
    "Roll a die until the total score is 20\n",
    "'''\n",
    "\n",
    "import matplotlib.pyplot as plt\n",
    "import random as rd\n",
    "\n",
    "target_score = 20\n",
    "\n",
    "def roll():\n",
    "    return rd.randint(1, 6)\n",
    "\n",
    "if __name__=='__main__':\n",
    "    score = 0\n",
    "    num_rolls = 0\n",
    "    while score < target_score:\n",
    "        die_roll = roll()\n",
    "        num_rolls += 1\n",
    "        print('Rolled: {0}'.format(die_roll))\n",
    "        score += die_roll\n",
    "    \n",
    "    print('Score of {0} reached in {1} rolls'.format(score, num_rolls))"
   ]
  },
  {
   "cell_type": "code",
   "execution_count": null,
   "id": "equivalent-commissioner",
   "metadata": {},
   "outputs": [],
   "source": [
    "from sympy import FiniteSet\n",
    "import random as rd\n",
    "\n",
    "def find_prob(target_score, max_rolls):\n",
    "    \n",
    "    die_sides = FiniteSet(*range(1,7))\n",
    "    # sample space\n",
    "    s = die_sides**max_rolls\n",
    "    # find the event set\n",
    "    if max_rolls > 1:\n",
    "        success_rolls = []\n",
    "        for elem in s:\n",
    "            if sum(elem) >= target_score:\n",
    "                success_rolls.append(elem)\n",
    "    else:\n",
    "        if target_score > 6:\n",
    "            success_rolls = []\n",
    "        else:\n",
    "            success_rolls = []\n",
    "            for roll in die_sides:\n",
    "                if roll >= target_score:\n",
    "                    success_rolls.append(roll)\n",
    "    \n",
    "    e = FiniteSet(*success_rolls)\n",
    "    \n",
    "    # calculate the probability of reaching target score\n",
    "    \n",
    "    return len(e)/len(s)\n",
    "\n",
    "if __name__=='__main__':\n",
    "    target_score = int(input('Enter the target score: '))\n",
    "    max_rolls = int(input('Enter the maximum number of rolls allowed: '))\n",
    "    p = find_prob(target_score, max_rolls)\n",
    "    print('Probability: {0:.5f}'.format(p))"
   ]
  },
  {
   "cell_type": "code",
   "execution_count": null,
   "id": "refined-howard",
   "metadata": {},
   "outputs": [],
   "source": [
    "import random as rd\n",
    "\n",
    "def toss():\n",
    "    #0 -> Heads, 1 -> Tails\n",
    "    if rd.random() < 2/3:\n",
    "        return 0\n",
    "    else:\n",
    "        return 1\n",
    "    \n",
    "if __name__=='__main__':\n",
    "    sum = 0\n",
    "    for i in range(1,101):\n",
    "        s = toss()\n",
    "        # print(s)\n",
    "        sum += s\n",
    "    print(sum)"
   ]
  },
  {
   "cell_type": "code",
   "execution_count": null,
   "id": "personalized-cornwall",
   "metadata": {},
   "outputs": [],
   "source": [
    "# 次で使うenumerateの意味\n",
    "\n",
    "# 通常のforループ\n",
    "l = ['Alice', 'Bob', 'Charlie']\n",
    "\n",
    "for name in l:\n",
    "    print(name)"
   ]
  },
  {
   "cell_type": "code",
   "execution_count": null,
   "id": "occupational-fifth",
   "metadata": {},
   "outputs": [],
   "source": [
    "for i, name in enumerate(l):\n",
    "    print(i, name)"
   ]
  },
  {
   "cell_type": "code",
   "execution_count": null,
   "id": "dutch-pantyhose",
   "metadata": {},
   "outputs": [],
   "source": [
    "'''\n",
    "Simulate a fictional ATM that dispenses dollar bills\n",
    "of various denominations with varying probability\n",
    "'''\n",
    "\n",
    "import random as rd\n",
    "\n",
    "def get_index(probability):\n",
    "    c_probability = 0\n",
    "    sum_probability = []\n",
    "    for p in probability:\n",
    "        c_probability += p\n",
    "        sum_probability.append(c_probability)\n",
    "        # print(p)\n",
    "        print(sum_probability)\n",
    "        \n",
    "    r = rd.random()\n",
    "    \n",
    "    for index, sp in enumerate(sum_probability):\n",
    "        print(index)\n",
    "        if r <= sp:\n",
    "            return index\n",
    "        return len(probability) - 1\n",
    "\n",
    "def dispense():\n",
    "    \n",
    "    dollar_bills = [5, 10, 20, 50]\n",
    "    probability = [1/6, 1/6, 1/3, 1/3]\n",
    "    bill_index = get_index(probability)\n",
    "    return dollar_bills[bill_index]\n",
    "\n",
    "if __name__=='__main__':\n",
    "    for i in range(1,101):\n",
    "        dollar_bills = dispense()\n",
    "        print(dollar_bills)"
   ]
  },
  {
   "cell_type": "code",
   "execution_count": null,
   "id": "numerous-closer",
   "metadata": {},
   "outputs": [],
   "source": [
    "'''\n",
    "Draw a Venn diagram for two sets\n",
    "'''\n",
    "\n",
    "from matplotlib_venn import venn2\n",
    "import matplotlib.pyplot as plt\n",
    "from sympy import FiniteSet\n",
    "\n",
    "def draw_venn(sets):\n",
    "    venn2(subsets=sets)\n",
    "    plt.show()\n",
    "    \n",
    "if __name__=='__main__':\n",
    "    s1 = FiniteSet(1, 3, 5, 7, 9, 11, 13, 15, 17, 19)\n",
    "    s2 = FiniteSet(2, 3, 5, 7, 11, 13, 17, 19)\n",
    "    draw_venn([s1, s2])"
   ]
  },
  {
   "cell_type": "code",
   "execution_count": null,
   "id": "decent-manor",
   "metadata": {},
   "outputs": [],
   "source": [
    "\"\"\"\n",
    "venn_sports.py\n",
    "\n",
    "Is football the favorite sport in my class too? Let's find out using a Venn diagram\n",
    "\"\"\"\n",
    "\n",
    "from sympy import FiniteSet\n",
    "from matplotlib_venn import venn2\n",
    "import matplotlib.pyplot as plt\n",
    "import csv\n",
    "\n",
    "def read_csv(filename):\n",
    "\n",
    "    football = []\n",
    "    others = []\n",
    "\n",
    "    with open(filename) as f:\n",
    "        reader = csv.reader(f)\n",
    "        next(reader)\n",
    "        for row in reader:\n",
    "            if row[1] == '1':\n",
    "                football.append(row[0])\n",
    "            if row[2] == '1':\n",
    "                others.append(row[0])\n",
    "\n",
    "    return football, others\n",
    "\n",
    "\n",
    "def draw_venn(f, o):\n",
    "    venn2(subsets=(f, o), set_labels=('Football', 'Others'))\n",
    "    plt.show()\n",
    "\n",
    "if __name__ == '__main__':\n",
    "    football, others = read_csv('./src/sports.csv')\n",
    "    f = FiniteSet(*football)\n",
    "    o = FiniteSet(*others)\n",
    "    print(f)\n",
    "    print(o)\n",
    "    draw_venn(f, o)"
   ]
  },
  {
   "cell_type": "code",
   "execution_count": null,
   "id": "competent-alexander",
   "metadata": {},
   "outputs": [],
   "source": [
    "'''\n",
    "law_ln.py\n",
    "\n",
    "Verify the law of large numbers using a six sided die roll as an example\n",
    "'''\n",
    "import random\n",
    "\n",
    "def roll(num_trials):\n",
    "    rolls = []\n",
    "    for t in range(num_trials):\n",
    "        rolls.append(random.randint(1, 6))\n",
    "    return sum(rolls)/num_trials\n",
    "\n",
    "if __name__ == '__main__':\n",
    "    expected_value = 3.5\n",
    "    print('Expected value: {0}'.format(expected_value))\n",
    "    for trial in [100, 1000, 10000, 100000, 500000]:\n",
    "        avg = roll(trial)\n",
    "        print('Trials: {0} Trial average {1}'.format(trial, avg))"
   ]
  },
  {
   "cell_type": "code",
   "execution_count": null,
   "id": "forced-bargain",
   "metadata": {
    "scrolled": true
   },
   "outputs": [],
   "source": [
    "'''\n",
    "game_tosses.py\n",
    "\n",
    "A player wins 1$ for every head and loses 1.5$ for every tail. \n",
    "The game is over when the player's balance reaches 0$\n",
    "'''\n",
    "import random\n",
    "\n",
    "def play(start_amount):\n",
    "\n",
    "    win_amount = 1\n",
    "    loss_amount = 1.5\n",
    "\n",
    "    cur_amount = start_amount\n",
    "    tosses = 0\n",
    "\n",
    "    while cur_amount > 0:\n",
    "        tosses += 1\n",
    "        toss = random.randint(0, 1)\n",
    "        if toss == 0:\n",
    "            cur_amount += win_amount\n",
    "            print('Heads! Current amount: {0}'.format(cur_amount))\n",
    "        else:\n",
    "            cur_amount -= loss_amount\n",
    "            print('Tails! Current amount: {0}'.format(cur_amount))\n",
    "    print('Game over :( Current amount: {0}. Coin tosses: {1}'.format(cur_amount, tosses))\n",
    "\n",
    "if __name__ == '__main__':\n",
    "    start_amount = float(input('Enter your starting amount: '))\n",
    "    play(start_amount)"
   ]
  },
  {
   "cell_type": "code",
   "execution_count": null,
   "id": "wrapped-holder",
   "metadata": {},
   "outputs": [],
   "source": [
    "# classの意味を理解するために\n",
    "class Card:\n",
    "    # コンストラクタ\n",
    "    def __init__(self, suite, rank):\n",
    "        self.suite = suite\n",
    "        self.rank = rank\n",
    "        \n",
    "if __name__ == '__main__':\n",
    "    cards = Card('Clubs', '2') # インスタンス化\n",
    "    print(cards.suite)\n",
    "    print(cards.rank)"
   ]
  },
  {
   "cell_type": "code",
   "execution_count": null,
   "id": "pharmaceutical-retail",
   "metadata": {},
   "outputs": [],
   "source": [
    "'''\n",
    "shuffle_enhanced.py\n",
    "\n",
    "Shuffle a deck of 52 cards\n",
    "'''\n",
    "import random\n",
    "\n",
    "class Card:\n",
    "    def __init__(self, suite, rank):\n",
    "        self.suite = suite\n",
    "        self.rank = rank\n",
    "        \n",
    "def initialize_deck():\n",
    "    suites = ['Clubs', 'Diamonds', 'Hearts', 'Spades']\n",
    "    ranks = ['Ace', '2', '3','4', '5', '6', '7', '8', '9', '10', 'Jack', 'Queen', 'King']\n",
    "    cards = []\n",
    "    for suite in suites:\n",
    "        for rank in ranks:\n",
    "            card = Card(suite, rank)\n",
    "            cards.append(card)\n",
    "    return cards\n",
    "    \n",
    "if __name__ == '__main__':\n",
    "    cards = initialize_deck()\n",
    "    for i in range(len(cards)):\n",
    "        card = cards[i]\n",
    "        print(\"suit: {0}, rank: {1}\".format(card.suite, card.rank))"
   ]
  },
  {
   "cell_type": "code",
   "execution_count": null,
   "id": "ceramic-iraqi",
   "metadata": {},
   "outputs": [],
   "source": [
    "'''\n",
    "shuffle_enhanced.py\n",
    "\n",
    "Shuffle a deck of 52 cards\n",
    "'''\n",
    "import random\n",
    "\n",
    "class Card:\n",
    "    def __init__(self, suite, rank):\n",
    "        self.suite = suite\n",
    "        self.rank = rank\n",
    "        \n",
    "def initialize_deck():\n",
    "    suites = ['Clubs', 'Diamonds', 'Hearts', 'Spades']\n",
    "    ranks = ['Ace', '2', '3','4', '5', '6', '7', '8', '9', '10', 'Jack', 'Queen', 'King']\n",
    "    cards = []\n",
    "    for suite in suites:\n",
    "        for rank in ranks:\n",
    "            card = Card(suite, rank)\n",
    "            cards.append(card)\n",
    "    return cards\n",
    "    \n",
    "if __name__ == '__main__':\n",
    "    cards = initialize_deck()\n",
    "    for card in cards:\n",
    "        print(\"suit: {0}, rank: {1}\".format(card.suite, card.rank))"
   ]
  },
  {
   "cell_type": "code",
   "execution_count": null,
   "id": "first-hardwood",
   "metadata": {},
   "outputs": [],
   "source": [
    "'''\n",
    "shuffle_enhanced.py\n",
    "\n",
    "Shuffle a deck of 52 cards\n",
    "'''\n",
    "import random\n",
    "\n",
    "class Card:\n",
    "    def __init__(self, suite, rank):\n",
    "        self.suite = suite\n",
    "        self.rank = rank\n",
    "        \n",
    "def initialize_deck():\n",
    "    suites = ['Clubs', 'Diamonds', 'Hearts', 'Spades']\n",
    "    ranks = ['Ace', '2', '3','4', '5', '6', '7', '8', '9', '10', 'Jack', 'Queen', 'King']\n",
    "    cards = []\n",
    "    for suite in suites:\n",
    "        for rank in ranks:\n",
    "            card = Card(suite, rank)\n",
    "            cards.append(card)\n",
    "    return cards\n",
    "\n",
    "def shuffle_and_print(cards):\n",
    "    random.shuffle(cards)\n",
    "    for card in cards:\n",
    "        print('{0} of {1}'.format(card.rank, card.suite))\n",
    "    \n",
    "if __name__ == '__main__':\n",
    "    cards = initialize_deck()\n",
    "    shuffle_and_print(cards)"
   ]
  },
  {
   "cell_type": "code",
   "execution_count": null,
   "id": "dangerous-spider",
   "metadata": {},
   "outputs": [],
   "source": [
    "'''\n",
    "estimate_circle_area.py\n",
    "\n",
    "Estimate the area of a circle\n",
    "'''\n",
    "import math\n",
    "import random\n",
    "\n",
    "def estimate(radius, total_points):\n",
    "    center = (radius, radius)\n",
    "\n",
    "    in_circle = 0\n",
    "    for i in range(total_points):\n",
    "        x = random.uniform(0, 2*radius)\n",
    "        y = random.uniform(0, 2*radius)\n",
    "        p = (x, y)\n",
    "        # distance of the point created from circle's center\n",
    "        d = math.sqrt((p[0]-center[0])**2 + (p[1]-center[1])**2)\n",
    "        if d <= radius:\n",
    "            in_circle += 1\n",
    "    area_of_square = (2*radius)**2\n",
    "    return (in_circle/total_points)*area_of_square\n",
    "\n",
    "if __name__ == '__main__':\n",
    "    radius = float(input('Radius: '))\n",
    "    area_of_circle = math.pi*radius**2\n",
    "    for points in [10**3, 10**5, 10**6]:\n",
    "        print('Area: {0}, Estimated ({1}): {2}'.format(area_of_circle, points, estimate(radius, points)))"
   ]
  },
  {
   "cell_type": "code",
   "execution_count": null,
   "id": "committed-namibia",
   "metadata": {},
   "outputs": [],
   "source": [
    "'''\n",
    "estimate_pi.py\n",
    "\n",
    "Estimate the value of Pi\n",
    "'''\n",
    "import math\n",
    "import random\n",
    "\n",
    "def estimate(total_points):\n",
    "    radius = 1\n",
    "    center = (radius, radius)\n",
    "\n",
    "    in_circle = 0\n",
    "    for i in range(total_points):\n",
    "        x = random.uniform(0, 2*radius)\n",
    "        y = random.uniform(0, 2*radius)\n",
    "        p = (x, y)\n",
    "        # distance from circle's center\n",
    "        d = math.sqrt((p[0]-center[0])**2 + (p[1]-center[1])**2)\n",
    "        if d <= radius:\n",
    "            in_circle += 1\n",
    "    return (in_circle/total_points)*4\n",
    "\n",
    "if __name__ == '__main__':\n",
    "    for points in [10**3, 10**5, 10**6]:\n",
    "        print('Known value: {0}, Estimated ({1}): {2}'.format(math.pi, points, estimate(points)))\n"
   ]
  },
  {
   "cell_type": "code",
   "execution_count": null,
   "id": "metropolitan-burke",
   "metadata": {},
   "outputs": [],
   "source": []
  }
 ],
 "metadata": {
  "kernelspec": {
   "display_name": "Python 3 (ipykernel)",
   "language": "python",
   "name": "python3"
  },
  "language_info": {
   "codemirror_mode": {
    "name": "ipython",
    "version": 3
   },
   "file_extension": ".py",
   "mimetype": "text/x-python",
   "name": "python",
   "nbconvert_exporter": "python",
   "pygments_lexer": "ipython3",
   "version": "3.11.2"
  }
 },
 "nbformat": 4,
 "nbformat_minor": 5
}
