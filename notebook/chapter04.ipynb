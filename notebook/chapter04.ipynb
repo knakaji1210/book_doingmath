{
 "cells": [
  {
   "cell_type": "code",
   "execution_count": null,
   "id": "rising-heading",
   "metadata": {},
   "outputs": [],
   "source": [
    "x = 1\n",
    "x + x + 1"
   ]
  },
  {
   "cell_type": "code",
   "execution_count": null,
   "id": "finnish-worker",
   "metadata": {},
   "outputs": [],
   "source": [
    "from sympy import Symbol\n",
    "x = Symbol('x')\n",
    "x + x + 1"
   ]
  },
  {
   "cell_type": "code",
   "execution_count": null,
   "id": "suffering-lobby",
   "metadata": {},
   "outputs": [],
   "source": [
    "from sympy import Symbol\n",
    "x = Symbol('x')\n",
    "x.name"
   ]
  },
  {
   "cell_type": "code",
   "execution_count": null,
   "id": "circular-depth",
   "metadata": {},
   "outputs": [],
   "source": [
    "from sympy import Symbol\n",
    "a = Symbol('x')\n",
    "a.name"
   ]
  },
  {
   "cell_type": "code",
   "execution_count": null,
   "id": "prescribed-approval",
   "metadata": {},
   "outputs": [],
   "source": [
    "from sympy import symbols\n",
    "x,y,z = symbols('x,y,z')\n",
    "print(x.name, y.name, z.name)"
   ]
  },
  {
   "cell_type": "code",
   "execution_count": null,
   "id": "equipped-positive",
   "metadata": {},
   "outputs": [],
   "source": [
    "from sympy import symbols\n",
    "x,y = symbols('x,y')\n",
    "s = x*y + x*y\n",
    "s"
   ]
  },
  {
   "cell_type": "code",
   "execution_count": null,
   "id": "broken-mailing",
   "metadata": {},
   "outputs": [],
   "source": [
    "from sympy import symbols\n",
    "x,y = symbols('x,y')\n",
    "p = x*(x + x)\n",
    "p"
   ]
  },
  {
   "cell_type": "code",
   "execution_count": null,
   "id": "organized-mapping",
   "metadata": {},
   "outputs": [],
   "source": [
    "from sympy import Symbol\n",
    "x = Symbol('x')\n",
    "p = (x + 2)*(x + 3)\n",
    "p"
   ]
  },
  {
   "cell_type": "code",
   "execution_count": null,
   "id": "entertaining-hardwood",
   "metadata": {},
   "outputs": [],
   "source": [
    "from sympy import symbols\n",
    "from sympy import factor, expand\n",
    "x,y = symbols('x,y')\n",
    "expr1 = x**2 - y**2\n",
    "factor(expr1)"
   ]
  },
  {
   "cell_type": "code",
   "execution_count": null,
   "id": "cooperative-copper",
   "metadata": {},
   "outputs": [],
   "source": [
    "from sympy import symbols\n",
    "from sympy import factor, expand\n",
    "x,y = symbols('x,y')\n",
    "expr2 = x**2 - y**2\n",
    "factors = factor(expr2)\n",
    "expand(factors)"
   ]
  },
  {
   "cell_type": "code",
   "execution_count": null,
   "id": "three-stock",
   "metadata": {},
   "outputs": [],
   "source": [
    "from sympy import symbols\n",
    "from sympy import factor, expand\n",
    "x,y = symbols('x,y')\n",
    "expr3 = x**3 + 3*x**2*y + 3*x*y**2 + y**3\n",
    "factors = factor(expr3)\n",
    "factors"
   ]
  },
  {
   "cell_type": "code",
   "execution_count": null,
   "id": "english-stack",
   "metadata": {},
   "outputs": [],
   "source": [
    "from sympy import symbols\n",
    "from sympy import factor, expand\n",
    "x,y = symbols('x,y')\n",
    "expr4 = x + y + x*y\n",
    "factor(expr4)"
   ]
  },
  {
   "cell_type": "code",
   "execution_count": null,
   "id": "coastal-grant",
   "metadata": {},
   "outputs": [],
   "source": [
    "from sympy import symbols\n",
    "from sympy import pprint\n",
    "x,y = symbols('x,y')\n",
    "expr5 = x**2 + 2*x*y + y**2\n",
    "expr5\n",
    "#pprint(expr5)"
   ]
  },
  {
   "cell_type": "code",
   "execution_count": null,
   "id": "about-anniversary",
   "metadata": {},
   "outputs": [],
   "source": [
    "expr6 = 1 + 2*x + 2*x**2\n",
    "expr6\n",
    "#pprint(expr6)"
   ]
  },
  {
   "cell_type": "code",
   "execution_count": null,
   "id": "sitting-sharing",
   "metadata": {},
   "outputs": [],
   "source": [
    "from sympy import init_printing\n",
    "init_printing(order='rev-lex')\n",
    "#init_printing(order='lex')\n",
    "expr6\n",
    "#pprint(expr6)"
   ]
  },
  {
   "cell_type": "code",
   "execution_count": null,
   "id": "dynamic-conjunction",
   "metadata": {},
   "outputs": [],
   "source": [
    "'''\n",
    "Print the series\n",
    " x + x**2 + x**3 + ... + x**n\n",
    "     ----   ----         ----\n",
    "      2      3            n\n",
    "and calculate its value at a certain value of x.\n",
    "'''\n",
    "\n",
    "from sympy import Symbol, pprint, init_printing\n",
    "\n",
    "def print_series(n):\n",
    "    #initiialize printing system with reverse order\n",
    "    init_printing(order='rev-lex')\n",
    "    x = Symbol('x')\n",
    "    series = x\n",
    "    for i in range(2, n + 1):\n",
    "        series = series + (x**i)/i\n",
    "    pprint(series)\n",
    "    \n",
    "if __name__ == '__main__':\n",
    "    n = input('Enter the number of terms you want in the series: ')\n",
    "    print_series(int(n))"
   ]
  },
  {
   "cell_type": "code",
   "execution_count": null,
   "id": "narrative-enzyme",
   "metadata": {},
   "outputs": [],
   "source": [
    "from sympy import Symbol\n",
    "x = Symbol('x')\n",
    "expr7 = x**2/2\n",
    "expr7\n",
    "#pprint(expr7)"
   ]
  },
  {
   "cell_type": "code",
   "execution_count": null,
   "id": "sunset-encyclopedia",
   "metadata": {},
   "outputs": [],
   "source": [
    "from sympy import symbols\n",
    "x,y = symbols('x,y')\n",
    "expr8 = x**2 + 2*x*y + y**2\n",
    "res = expr8.subs({x:1, y:2})\n",
    "res"
   ]
  },
  {
   "cell_type": "code",
   "execution_count": null,
   "id": "reliable-graphics",
   "metadata": {},
   "outputs": [],
   "source": [
    "from sympy import symbols\n",
    "x,y = symbols('x,y')\n",
    "expr8 = x**2 + 2*x*y + y**2\n",
    "expr8.subs({x:1-y})"
   ]
  },
  {
   "cell_type": "code",
   "execution_count": null,
   "id": "unlimited-preference",
   "metadata": {},
   "outputs": [],
   "source": [
    "expr_subs = expr8.subs({x:1-y})\n",
    "from sympy import simplify\n",
    "simplify(expr_subs)"
   ]
  },
  {
   "cell_type": "code",
   "execution_count": null,
   "id": "regional-timothy",
   "metadata": {},
   "outputs": [],
   "source": [
    "'''\n",
    "Print the series\n",
    " x + x**2 + x**3 + ... + x**n\n",
    "     ----   ----         ----\n",
    "      2      3            n\n",
    "and calculate its value at a certain value of x.\n",
    "'''\n",
    "\n",
    "from sympy import Symbol, pprint, init_printing\n",
    "\n",
    "def print_series(n, x_value):\n",
    "    \n",
    "    #initiialize printing system with reverse order\n",
    "    init_printing(order='rev-lex')\n",
    "    \n",
    "    x = Symbol('x')\n",
    "    series = x\n",
    "    for i in range(2, n + 1):\n",
    "        series = series + (x**i)/i\n",
    "    \n",
    "    pprint(series)\n",
    "    \n",
    "    # evaluate the series aat x_value\n",
    "    series_value = series.subs({x:x_value})\n",
    "    print('Value of the series at {0}: {1}'.format(x_value, series_value))\n",
    "    \n",
    "if __name__ == '__main__':\n",
    "    n = input('Enter the number of terms you want in the series: ')\n",
    "    x_value = input('Enter the value of x at which you want to evaluate the series: ')\n",
    "    print_series(int(n), float(x_value))"
   ]
  },
  {
   "cell_type": "code",
   "execution_count": null,
   "id": "personal-ensemble",
   "metadata": {},
   "outputs": [],
   "source": [
    "from sympy import sympify\n",
    "expr = input('Enter a mathematical expression: ')"
   ]
  },
  {
   "cell_type": "code",
   "execution_count": null,
   "id": "appropriate-heading",
   "metadata": {},
   "outputs": [],
   "source": [
    "expr = sympify(expr)"
   ]
  },
  {
   "cell_type": "code",
   "execution_count": null,
   "id": "powerful-exchange",
   "metadata": {},
   "outputs": [],
   "source": [
    "2*expr"
   ]
  },
  {
   "cell_type": "code",
   "execution_count": null,
   "id": "aggregate-training",
   "metadata": {},
   "outputs": [],
   "source": [
    "from sympy import sympify\n",
    "expr2 = input('Enter a mathematical expression: ')"
   ]
  },
  {
   "cell_type": "code",
   "execution_count": null,
   "id": "perceived-morocco",
   "metadata": {},
   "outputs": [],
   "source": [
    "expr2 = sympify(expr2)"
   ]
  },
  {
   "cell_type": "code",
   "execution_count": null,
   "id": "important-probability",
   "metadata": {},
   "outputs": [],
   "source": [
    "from sympy import sympify, pprint\n",
    "\n",
    "def sympify_test():\n",
    "    expr = input('Enter a mathematical expression: ')\n",
    "    expr = sympify(expr)\n",
    "    pprint(expr)\n",
    "\n",
    "if __name__ == '__main__':\n",
    "    sympify_test()"
   ]
  },
  {
   "cell_type": "code",
   "execution_count": null,
   "id": "identified-mention",
   "metadata": {},
   "outputs": [],
   "source": [
    "from sympy import sympify, pprint\n",
    "from sympy.core.sympify import SympifyError\n",
    "\n",
    "def sympify_test():\n",
    "    expr = input('Enter a mathematical expression: ')\n",
    "    try:\n",
    "        expr = sympify(expr)\n",
    "        pprint(expr)\n",
    "    except SympifyError:\n",
    "        print('Invalid input')\n",
    "\n",
    "if __name__ == '__main__':\n",
    "    sympify_test()"
   ]
  },
  {
   "cell_type": "code",
   "execution_count": null,
   "id": "aging-trial",
   "metadata": {},
   "outputs": [],
   "source": [
    "'''\n",
    "Product of two expressions\n",
    "'''\n",
    "\n",
    "from sympy import sympify, pprint, expand\n",
    "from sympy.core.sympify import SympifyError\n",
    "\n",
    "def product(expr1, expr2):\n",
    "    prod = expand(expr1*expr2)\n",
    "    pprint(prod)\n",
    "\n",
    "if __name__ == '__main__':\n",
    "    expr1 = input('Enter the first expression: ')\n",
    "    expr2 = input('Enter the second expression: ')\n",
    "    \n",
    "    try:\n",
    "        expr1 = sympify(expr1)\n",
    "        expr2 = sympify(expr2)\n",
    "    except SympifyError:\n",
    "        print('Invalid input')\n",
    "    else:\n",
    "        product(expr1, expr2)\n",
    "    "
   ]
  },
  {
   "cell_type": "code",
   "execution_count": null,
   "id": "fancy-trinity",
   "metadata": {},
   "outputs": [],
   "source": [
    "from sympy import Symbol, solve\n",
    "x = Symbol('x')\n",
    "expr = x - 5 -7\n",
    "solve(expr)"
   ]
  },
  {
   "cell_type": "code",
   "execution_count": null,
   "id": "documented-donor",
   "metadata": {},
   "outputs": [],
   "source": [
    "from sympy import Symbol, solve\n",
    "x = Symbol('x')\n",
    "expr = x**2 + 5*x + 4\n",
    "solve(expr, dict=True)"
   ]
  },
  {
   "cell_type": "code",
   "execution_count": null,
   "id": "suburban-vaccine",
   "metadata": {},
   "outputs": [],
   "source": [
    "from sympy import Symbol, solve\n",
    "x = Symbol('x')\n",
    "expr = x**2 + x + 1\n",
    "solve(expr, dict=True)"
   ]
  },
  {
   "cell_type": "code",
   "execution_count": null,
   "id": "refined-sauce",
   "metadata": {},
   "outputs": [],
   "source": [
    "from sympy import Symbol, solve\n",
    "x = Symbol('x')\n",
    "a = Symbol('a')\n",
    "b = Symbol('b')\n",
    "c = Symbol('c')\n",
    "expr = a*x**2 + b*x + c\n",
    "solve(expr, x, dict=True)"
   ]
  },
  {
   "cell_type": "code",
   "execution_count": null,
   "id": "ranking-orlando",
   "metadata": {},
   "outputs": [],
   "source": [
    "from sympy import Symbol, solve, pprint\n",
    "s = Symbol('s')\n",
    "u = Symbol('u')\n",
    "t = Symbol('t')\n",
    "a = Symbol('a')\n",
    "expr = u*t + (1/2)*a*t*t - s\n",
    "t_expr = solve(expr, t, dict=True)\n",
    "pprint(t_expr)"
   ]
  },
  {
   "cell_type": "code",
   "execution_count": null,
   "id": "expressed-massachusetts",
   "metadata": {},
   "outputs": [],
   "source": [
    "from sympy import Symbol, solve, pprint\n",
    "x = Symbol('x')\n",
    "y = Symbol('y')\n",
    "expr1 = 2*x + 3*y - 6\n",
    "expr2 = 3*x + 2*y - 12\n",
    "soln = solve((expr1, expr2), dict=True)\n",
    "print(soln)\n",
    "soln = soln[0]\n",
    "print(soln)\n",
    "print(expr1.subs({x:soln[x], y:soln[y]}))\n",
    "print(expr2.subs({x:soln[x], y:soln[y]}))"
   ]
  },
  {
   "cell_type": "code",
   "execution_count": null,
   "id": "coastal-premises",
   "metadata": {},
   "outputs": [],
   "source": [
    "from sympy.plotting import plot\n",
    "from sympy import Symbol\n",
    "x = Symbol('x')\n",
    "plot(2*x + 3)"
   ]
  },
  {
   "cell_type": "code",
   "execution_count": null,
   "id": "beginning-leone",
   "metadata": {},
   "outputs": [],
   "source": [
    "from sympy.plotting import plot\n",
    "from sympy import Symbol\n",
    "x = Symbol('x')\n",
    "plot((2*x + 3), (x, -5, 5))"
   ]
  },
  {
   "cell_type": "code",
   "execution_count": null,
   "id": "adaptive-software",
   "metadata": {},
   "outputs": [],
   "source": [
    "from sympy.plotting import plot\n",
    "from sympy import Symbol\n",
    "x = Symbol('x')\n",
    "plot((2*x + 3), (x, -5, 5), title='A Line', xlabel='x', ylabel='2x + 3')"
   ]
  },
  {
   "cell_type": "code",
   "execution_count": null,
   "id": "motivated-contributor",
   "metadata": {},
   "outputs": [],
   "source": [
    "from sympy.plotting import plot\n",
    "from sympy import Symbol\n",
    "x = Symbol('x')\n",
    "p = plot((2*x + 3), (x, -5, 5), title='A Line', xlabel='x', ylabel='2x + 3', show=False)"
   ]
  },
  {
   "cell_type": "code",
   "execution_count": null,
   "id": "supreme-headline",
   "metadata": {},
   "outputs": [],
   "source": [
    "from sympy.plotting import plot\n",
    "from sympy import Symbol\n",
    "x = Symbol('x')\n",
    "p = plot((2*x + 3), (x, -5, 5), title='A Line', xlabel='x', ylabel='2x + 3', show=False)\n",
    "p.show()"
   ]
  },
  {
   "cell_type": "code",
   "execution_count": null,
   "id": "manufactured-mineral",
   "metadata": {},
   "outputs": [],
   "source": [
    "from sympy.plotting import plot\n",
    "from sympy import Symbol\n",
    "x = Symbol('x')\n",
    "p = plot((2*x + 3), (x, -5, 5), title='A Line', xlabel='x', ylabel='2x + 3', show=False)\n",
    "p.show()\n",
    "p.save('./png/line.png')"
   ]
  },
  {
   "cell_type": "code",
   "execution_count": null,
   "id": "executed-philosophy",
   "metadata": {},
   "outputs": [],
   "source": [
    "expr = input('Enter an expression')"
   ]
  },
  {
   "cell_type": "code",
   "execution_count": null,
   "id": "inner-seeker",
   "metadata": {},
   "outputs": [],
   "source": [
    "from sympy import sympify\n",
    "expr = sympify(expr)"
   ]
  },
  {
   "cell_type": "code",
   "execution_count": null,
   "id": "wired-visibility",
   "metadata": {},
   "outputs": [],
   "source": [
    "from sympy import Symbol\n",
    "y = Symbol('y')\n",
    "solve(expr, y)"
   ]
  },
  {
   "cell_type": "code",
   "execution_count": null,
   "id": "rural-desert",
   "metadata": {},
   "outputs": [],
   "source": [
    "solutions = solve(expr, y)\n",
    "expr_y = solutions[0]\n",
    "expr_y"
   ]
  },
  {
   "cell_type": "code",
   "execution_count": null,
   "id": "generic-snapshot",
   "metadata": {},
   "outputs": [],
   "source": [
    "'''\n",
    "Plot the graph of an input expression\n",
    "'''\n",
    "\n",
    "from sympy import Symbol, sympify, solve\n",
    "from sympy.plotting import plot\n",
    "from sympy.core.sympify import SympifyError\n",
    "\n",
    "def plot_expression(expr):\n",
    "    \n",
    "    y = Symbol('y')\n",
    "    slutions = solve(expr, y)\n",
    "    expr_y = solutions[0]\n",
    "    plot(expr_y)\n",
    "    \n",
    "if __name__ == '__main__':\n",
    "    \n",
    "    expr = input('Enter your expression in terms of x and y: ')\n",
    "    try:\n",
    "        expr = sympify(expr)\n",
    "    except SympifyError:\n",
    "        print('Invalid input')\n",
    "    else:\n",
    "        plot_expression(expr)"
   ]
  },
  {
   "cell_type": "code",
   "execution_count": null,
   "id": "center-angel",
   "metadata": {},
   "outputs": [],
   "source": [
    "from sympy import Symbol\n",
    "from sympy.plotting import plot\n",
    "\n",
    "x = Symbol('x')\n",
    "plot(2*x + 3, 3*x + 1)"
   ]
  },
  {
   "cell_type": "code",
   "execution_count": null,
   "id": "controversial-finnish",
   "metadata": {},
   "outputs": [],
   "source": [
    "from sympy import Symbol\n",
    "from sympy.plotting import plot\n",
    "\n",
    "x = Symbol('x')\n",
    "p = plot(2*x + 3, 3*x + 1, legend=True, show=False)\n",
    "p[0].line_color = 'b'\n",
    "p[1].line_color = 'r'\n",
    "p.show()"
   ]
  },
  {
   "cell_type": "code",
   "execution_count": null,
   "id": "preceding-webmaster",
   "metadata": {},
   "outputs": [],
   "source": [
    "'''\n",
    "factorizer.py\n",
    "\n",
    "Factor an input expression\n",
    "'''\n",
    "\n",
    "from sympy import factor, sympify, SympifyError\n",
    "\n",
    "def factorize(expr):\n",
    "    return factor(expr)\n",
    "\n",
    "if __name__ == '__main__':\n",
    "    expr = input('Enter an expression to factorize: ')\n",
    "    try:\n",
    "        expr_obj = sympify(expr)\n",
    "    except SympifyError:\n",
    "        print('Invalid expression entered as input')\n",
    "    else:\n",
    "        print(factorize(expr_obj))\n"
   ]
  },
  {
   "cell_type": "code",
   "execution_count": null,
   "id": "caring-increase",
   "metadata": {},
   "outputs": [],
   "source": [
    "'''\n",
    "vtGraphical equation solver\n",
    "'''\n",
    "\n",
    "from sympy import Symbol, sympify, solve, SympifyError\n",
    "from sympy.plotting import plot\n",
    "\n",
    "def solve_plot_equations(eq1, eq2, x, y):\n",
    "    # Solve\n",
    "    solution = solve((eq1, eq2), dict=True)\n",
    "    if solution:\n",
    "        print('x: {0} y: {1}'.format(solution[0][x], solution[0][y]))\n",
    "    else:\n",
    "        print('No solution found')\n",
    "    # Plot\n",
    "#    eq1_y = solve(eq1,'y')[0]\n",
    "#    eq2_y = solve(eq2, 'y')[0]\n",
    "#    plot(eq1_y, eq2_y, legend=True)\n",
    "    \n",
    " \n",
    "\n",
    "if __name__=='__main__':\n",
    "\n",
    "    eq1 = input('Enter your first equation : ')\n",
    "    eq2 = input('Enter your second equation: ')\n",
    "\n",
    "    try:\n",
    "        eq1 = sympify(eq1)\n",
    "        eq2 = sympify(eq2)\n",
    "    except SympifyError:\n",
    "        print('Invalid input')\n",
    "    else:\n",
    "        x = Symbol('x')\n",
    "        y = Symbol('y')\n",
    "        solve_plot_equations(eq1, eq2, x, y)\n",
    "        # check if the expressions consist of only two variables\n",
    "#        eq1_symbols = eq1.atoms(Symbol)\n",
    "#        eq2_symbols = eq2.atoms(Symbol)\n",
    "        \n",
    "#        if len(eq1_symbols)> 2 or len(eq2_symbols) > 2:\n",
    "#            print('The equations must have only two variables - x and y')\n",
    "#        elif x not in eq1_symbols or y not in eq1_symbols:\n",
    "#            print('First equation must have only x and y variables')\n",
    "#        elif x not in eq2_symbols or y not in eq2_symbols:\n",
    "#            print('Second equation must have only x and y variables')       \n",
    "#        else:\n",
    "#           solve_plot_equations(eq1, eq2, x, y)\n"
   ]
  },
  {
   "cell_type": "code",
   "execution_count": null,
   "id": "christian-balloon",
   "metadata": {},
   "outputs": [],
   "source": [
    "'''\n",
    "\n",
    "graphical_eq_solve.py\n",
    "\n",
    "Graphical equation solver\n",
    "'''\n",
    "\n",
    "from sympy import Symbol, sympify, solve, SympifyError\n",
    "from sympy.plotting import plot\n",
    "\n",
    "def solve_plot_equations(eq1, eq2, x, y):\n",
    "    # Solve\n",
    "    solution = solve((eq1, eq2), dict=True)\n",
    "    if solution:\n",
    "        print('x: {0} y: {1}'.format(solution[0][x], solution[0][y]))\n",
    "    else:\n",
    "        print('No solution found')\n",
    "    # Plot\n",
    "    eq1_y = solve(eq1,'y')[0]\n",
    "    eq2_y = solve(eq2, 'y')[0]\n",
    "    plot(eq1_y, eq2_y, legend=True)\n",
    "    \n",
    " \n",
    "\n",
    "if __name__=='__main__':\n",
    "\n",
    "    eq1 = input('Enter your first equation : ')\n",
    "    eq2 = input('Enter your second equation: ')\n",
    "\n",
    "    try:\n",
    "        eq1 = sympify(eq1)\n",
    "        eq2 = sympify(eq2)\n",
    "    except SympifyError:\n",
    "        print('Invalid input')\n",
    "    else:\n",
    "        x = Symbol('x')\n",
    "        y = Symbol('y')\n",
    "        # check if the expressions consist of only two variables\n",
    "        eq1_symbols = eq1.atoms(Symbol)\n",
    "        eq2_symbols = eq2.atoms(Symbol)\n",
    "        \n",
    "        if len(eq1_symbols)> 2 or len(eq2_symbols) > 2:\n",
    "            print('The equations must have only two variables - x and y')\n",
    "        elif x not in eq1_symbols or y not in eq1_symbols:\n",
    "            print('First equation must have only x and y variables')\n",
    "        elif x not in eq2_symbols or y not in eq2_symbols:\n",
    "            print('Second equation must have only x and y variables')       \n",
    "        else:\n",
    "            solve_plot_equations(eq1, eq2, x, y)"
   ]
  },
  {
   "cell_type": "code",
   "execution_count": null,
   "id": "computational-techno",
   "metadata": {},
   "outputs": [],
   "source": [
    "from sympy import Symbol, summation, pprint\n",
    "x = Symbol('x')\n",
    "n = Symbol('n')\n",
    "s = summation(x**n/n, (n, 1, 5))\n",
    "pprint(s)"
   ]
  },
  {
   "cell_type": "code",
   "execution_count": null,
   "id": "analyzed-liquid",
   "metadata": {},
   "outputs": [],
   "source": [
    "'''\n",
    "series_summation.py\n",
    "\n",
    "Sum an arbitrary series\n",
    "'''\n",
    "\n",
    "from sympy import summation, sympify, Symbol, pprint\n",
    "\n",
    "def find_sum(n_term, num_terms):\n",
    "    n = Symbol('n')\n",
    "    s = summation(n_term, (n, 1, num_terms))\n",
    "    \n",
    "    return s\n",
    "\n",
    "\n",
    "if __name__ == '__main__':\n",
    "    n_term = sympify(input('Enter the nth term: '))\n",
    "    num_terms = int(input('Enter the number of terms: '))\n",
    "\n",
    "    find_sum(n_term, num_terms)\n",
    "    pprint(s)\n",
    "    print(s.subs({x:1.2}))"
   ]
  },
  {
   "cell_type": "code",
   "execution_count": null,
   "id": "heard-modern",
   "metadata": {},
   "outputs": [],
   "source": [
    "from sympy import Poly, Symbol, solve_poly_inequality\n",
    "\n",
    "x = Symbol('x')\n",
    "ineq_obj = -x**2 + 4 < 0\n",
    "lhs = ineq_obj.lhs\n",
    "print(lhs)\n",
    "p = Poly(lhs, x)\n",
    "print(p)\n",
    "rel = ineq_obj.rel_op\n",
    "print(rel)\n",
    "solve_poly_inequality(p, rel)"
   ]
  },
  {
   "cell_type": "code",
   "execution_count": null,
   "id": "eastern-platform",
   "metadata": {},
   "outputs": [],
   "source": [
    "from sympy import Poly, Symbol, solve_rational_inequalities\n",
    "\n",
    "x = Symbol('x')\n",
    "ineq_obj = ((x-1)/(x+2)) > 0\n",
    "lhs = ineq_obj.lhs\n",
    "print(lhs)\n",
    "numer, denom = lhs.as_numer_denom()\n",
    "print(numer)\n",
    "print(denom)\n",
    "p1 = Poly(numer)\n",
    "p2 = Poly(denom)\n",
    "print(p1)\n",
    "print(p2)\n",
    "#print(p)\n",
    "rel = ineq_obj.rel_op\n",
    "print(rel)\n",
    "solve_rational_inequalities([[((p1, p2),rel)]])"
   ]
  },
  {
   "cell_type": "code",
   "execution_count": null,
   "id": "skilled-determination",
   "metadata": {},
   "outputs": [],
   "source": [
    "from sympy import Symbol, solve, solve_univariate_inequality, sin\n",
    "\n",
    "x = Symbol('x')\n",
    "\n",
    "ineq_obj = sin(x) - 0.6 > 0\n",
    "solve_univariate_inequality(ineq_obj, x, relational=False)"
   ]
  },
  {
   "cell_type": "code",
   "execution_count": null,
   "id": "dried-clause",
   "metadata": {},
   "outputs": [],
   "source": [
    "from sympy import Symbol, solve, solve_univariate_inequality, sin\n",
    "\n",
    "x = Symbol('x')\n",
    "\n",
    "expr = x**2 - 4\n",
    "expr.is_polynomial()"
   ]
  },
  {
   "cell_type": "code",
   "execution_count": null,
   "id": "oriented-selling",
   "metadata": {},
   "outputs": [],
   "source": [
    "from sympy import Symbol, solve, solve_univariate_inequality, sin\n",
    "\n",
    "x = Symbol('x')\n",
    "\n",
    "expr = 2*sin(x) + 3\n",
    "expr.is_polynomial()"
   ]
  },
  {
   "cell_type": "code",
   "execution_count": null,
   "id": "exterior-ebony",
   "metadata": {},
   "outputs": [],
   "source": [
    "from sympy import Symbol, solve, solve_univariate_inequality, sin\n",
    "\n",
    "x = Symbol('x')\n",
    "\n",
    "expr = (2+x)/(3+x)\n",
    "expr.is_rational_function()"
   ]
  },
  {
   "cell_type": "code",
   "execution_count": null,
   "id": "light-virus",
   "metadata": {},
   "outputs": [],
   "source": [
    "from sympy import Symbol, solve, solve_univariate_inequality, sin\n",
    "\n",
    "x = Symbol('x')\n",
    "\n",
    "expr = 2+x\n",
    "expr.is_rational_function()"
   ]
  },
  {
   "cell_type": "code",
   "execution_count": null,
   "id": "bulgarian-sydney",
   "metadata": {},
   "outputs": [],
   "source": [
    "from sympy import Symbol, solve, solve_univariate_inequality, sin\n",
    "\n",
    "x = Symbol('x')\n",
    "\n",
    "expr = 2+sin(x)\n",
    "expr.is_rational_function()"
   ]
  },
  {
   "cell_type": "code",
   "execution_count": null,
   "id": "brave-topic",
   "metadata": {},
   "outputs": [],
   "source": [
    "from sympy import sympify\n",
    "\n",
    "sympify('x+3>0')"
   ]
  },
  {
   "cell_type": "code",
   "execution_count": null,
   "id": "executed-college",
   "metadata": {},
   "outputs": [],
   "source": [
    "'''\n",
    "Single variable inequality solver\n",
    "'''\n",
    "\n",
    "from sympy import Symbol, sympify, SympifyError\n",
    "from sympy import solve_poly_inequality, solve_rational_inequalities, solve_univariate_inequality, Poly\n",
    "from sympy.core.relational import Relational, Equality\n",
    "\n",
    "def isolve(ineq_obj):\n",
    "    x = Symbol('x')\n",
    "\n",
    "    expr = ineq_obj.lhs\n",
    "    rel = ineq_obj.rel_op\n",
    "    \n",
    "    if expr.is_polynomial():\n",
    "        p = Poly(expr, x)\n",
    "        return solve_poly_inequality(p, rel)\n",
    "    elif expr.is_rational_function():\n",
    "        p1, p2 = expr.as_numer_denom()\n",
    "        num  = Poly(p1)\n",
    "        denom = Poly(p2)\n",
    "        return solve_rational_inequalities([[((num, denom), rel)]])\n",
    "    else:\n",
    "        return solve_univariate_inequality(ineq_obj , x, relational=False)\n",
    "\n",
    "if __name__ == '__main__':\n",
    "    ineq = input('Enter the inequality to solve: ')\n",
    "    try:\n",
    "        ineq_obj = sympify(ineq)\n",
    "    except SympifyError:\n",
    "        print('Invalid inequality')\n",
    "    else:\n",
    "        # We check if the input expression is an inequality here\n",
    "        if isinstance(ineq_obj, Relational) and not isinstance(ineq_obj, Equality):\n",
    "            print(isolve(ineq_obj))\n",
    "        else:\n",
    "            print('Invalid inequality')\n"
   ]
  },
  {
   "cell_type": "code",
   "execution_count": null,
   "id": "excited-alberta",
   "metadata": {},
   "outputs": [],
   "source": []
  }
 ],
 "metadata": {
  "kernelspec": {
   "display_name": "Python 3 (ipykernel)",
   "language": "python",
   "name": "python3"
  },
  "language_info": {
   "codemirror_mode": {
    "name": "ipython",
    "version": 3
   },
   "file_extension": ".py",
   "mimetype": "text/x-python",
   "name": "python",
   "nbconvert_exporter": "python",
   "pygments_lexer": "ipython3",
   "version": "3.11.2"
  }
 },
 "nbformat": 4,
 "nbformat_minor": 5
}
