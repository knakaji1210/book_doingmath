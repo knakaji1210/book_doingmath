{
 "cells": [
  {
   "cell_type": "code",
   "execution_count": null,
   "id": "interracial-reply",
   "metadata": {},
   "outputs": [],
   "source": [
    "d = {\"key1\": 5, \"key2\": 20}\n",
    "d[\"key1\"]"
   ]
  },
  {
   "cell_type": "code",
   "execution_count": null,
   "id": "confused-apollo",
   "metadata": {},
   "outputs": [],
   "source": [
    "d = {\"key1\": 5, \"key2\": 20}\n",
    "'x' in d"
   ]
  },
  {
   "cell_type": "code",
   "execution_count": null,
   "id": "likely-religious",
   "metadata": {},
   "outputs": [],
   "source": [
    "d = {\"key1\": 5, \"key2\": 20}\n",
    "if 'x' in d:\n",
    "    print(d['x'])\n",
    "else:\n",
    "    d['x'] = 1\n",
    "#d['y']\n",
    "d.get('y', 0)"
   ]
  },
  {
   "cell_type": "code",
   "execution_count": null,
   "id": "special-cornell",
   "metadata": {},
   "outputs": [],
   "source": [
    "d['y'] = 1\n",
    "d.get('y', 0)"
   ]
  },
  {
   "cell_type": "code",
   "execution_count": null,
   "id": "improved-discharge",
   "metadata": {},
   "outputs": [],
   "source": [
    "d.keys()"
   ]
  },
  {
   "cell_type": "code",
   "execution_count": null,
   "id": "unknown-locking",
   "metadata": {},
   "outputs": [],
   "source": [
    "d.values()"
   ]
  },
  {
   "cell_type": "code",
   "execution_count": null,
   "id": "religious-pearl",
   "metadata": {},
   "outputs": [],
   "source": [
    "d.items()"
   ]
  },
  {
   "cell_type": "code",
   "execution_count": null,
   "id": "downtown-pressure",
   "metadata": {},
   "outputs": [],
   "source": [
    "for k, v in d.items():\n",
    "    print(k, v)"
   ]
  },
  {
   "cell_type": "code",
   "execution_count": null,
   "id": "coral-guess",
   "metadata": {},
   "outputs": [],
   "source": []
  }
 ],
 "metadata": {
  "kernelspec": {
   "display_name": "Python 3 (ipykernel)",
   "language": "python",
   "name": "python3"
  },
  "language_info": {
   "codemirror_mode": {
    "name": "ipython",
    "version": 3
   },
   "file_extension": ".py",
   "mimetype": "text/x-python",
   "name": "python",
   "nbconvert_exporter": "python",
   "pygments_lexer": "ipython3",
   "version": "3.11.2"
  }
 },
 "nbformat": 4,
 "nbformat_minor": 5
}
