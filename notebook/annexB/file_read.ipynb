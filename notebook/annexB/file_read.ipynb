{
 "cells": [
  {
   "cell_type": "code",
   "execution_count": null,
   "id": "patient-boating",
   "metadata": {},
   "outputs": [],
   "source": [
    "def read_data(path):\n",
    "    numbers = []\n",
    "    f = open(path)\n",
    "    for line in f:\n",
    "        numbers.append(float(line))\n",
    "    f.close()\n",
    "    return numbers\n",
    "\n",
    "if __name__ == '__main__':\n",
    "    path = './src/mydata.txt'\n",
    "    numbers = read_data(path)\n",
    "    print(numbers)"
   ]
  },
  {
   "cell_type": "code",
   "execution_count": null,
   "id": "visible-bulgaria",
   "metadata": {},
   "outputs": [],
   "source": [
    "def read_data(path):\n",
    "    numbers = []\n",
    "    with open(path) as f:\n",
    "        for line in f:\n",
    "            numbers.append(float(line))\n",
    "    return numbers\n",
    "\n",
    "if __name__ == '__main__':\n",
    "    path = './src/mydata.txt'\n",
    "    numbers = read_data(path)\n",
    "    print(numbers)"
   ]
  },
  {
   "cell_type": "code",
   "execution_count": null,
   "id": "acceptable-digest",
   "metadata": {},
   "outputs": [],
   "source": [
    "def read_data(path):\n",
    "    with open(path) as f:\n",
    "        lines = f.readlines()\n",
    "    numbers = [float(n) for n in lines]\n",
    "    return numbers\n",
    "\n",
    "if __name__ == '__main__':\n",
    "    path = './src/mydata.txt'\n",
    "    numbers = read_data(path)\n",
    "    print(numbers)"
   ]
  },
  {
   "cell_type": "code",
   "execution_count": null,
   "id": "acute-myrtle",
   "metadata": {},
   "outputs": [],
   "source": [
    "def read_data(path):\n",
    "    with open(path) as f:\n",
    "        lines = f.readlines()\n",
    "    numbers = [float(n) for n in lines]\n",
    "    return numbers\n",
    "\n",
    "if __name__ == '__main__':\n",
    "    data_file = input('Enter the path of the file: ')\n",
    "    data = read_data(data_file)\n",
    "    print(data)"
   ]
  },
  {
   "cell_type": "code",
   "execution_count": null,
   "id": "looking-conversion",
   "metadata": {},
   "outputs": [],
   "source": [
    "def read_data(path):\n",
    "    numbers = []\n",
    "    try:        \n",
    "        with open(path) as f:\n",
    "            for line in f:\n",
    "                numbers.append(float(line))\n",
    "    except FileNotFoundError:\n",
    "        print('File not found')\n",
    "    return numbers\n",
    "\n",
    "if __name__ == '__main__':\n",
    "    data_file = input('Enter the path of the file: ')\n",
    "    data = read_data(data_file)\n",
    "    print(data)"
   ]
  },
  {
   "cell_type": "code",
   "execution_count": null,
   "id": "based-workshop",
   "metadata": {},
   "outputs": [],
   "source": [
    "def read_data(path):\n",
    "    numbers = []\n",
    "    try:        \n",
    "        with open(path) as f:\n",
    "            for line in f:\n",
    "                try:\n",
    "                    n = float(line)\n",
    "                except ValueError:\n",
    "                    print('Bad data: {0}'.format(line))\n",
    "                    #break\n",
    "                    #return\n",
    "                    continue\n",
    "                numbers.append(float(line))\n",
    "    except FileNotFoundError:\n",
    "        print('File not found')\n",
    "    return numbers\n",
    "\n",
    "if __name__ == '__main__':\n",
    "    data_file = input('Enter the path of the file: ')\n",
    "    data = read_data(data_file)\n",
    "    print(data)"
   ]
  },
  {
   "cell_type": "code",
   "execution_count": null,
   "id": "industrial-cleveland",
   "metadata": {},
   "outputs": [],
   "source": []
  }
 ],
 "metadata": {
  "kernelspec": {
   "display_name": "Python 3 (ipykernel)",
   "language": "python",
   "name": "python3"
  },
  "language_info": {
   "codemirror_mode": {
    "name": "ipython",
    "version": 3
   },
   "file_extension": ".py",
   "mimetype": "text/x-python",
   "name": "python",
   "nbconvert_exporter": "python",
   "pygments_lexer": "ipython3",
   "version": "3.11.2"
  }
 },
 "nbformat": 4,
 "nbformat_minor": 5
}
