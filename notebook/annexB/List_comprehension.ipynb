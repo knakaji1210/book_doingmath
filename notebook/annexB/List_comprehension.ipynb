{
 "cells": [
  {
   "cell_type": "code",
   "execution_count": null,
   "id": "premium-treatment",
   "metadata": {},
   "outputs": [],
   "source": [
    "x = [1, 2, 3, 4]\n",
    "x_square = []\n",
    "for n in x:\n",
    "    x_square.append(n**2)\n",
    "x_square"
   ]
  },
  {
   "cell_type": "code",
   "execution_count": null,
   "id": "thrown-expense",
   "metadata": {},
   "outputs": [],
   "source": [
    "x = [1, 2, 3, 4]\n",
    "x_square = [n**2 for n in x]\n",
    "x_square"
   ]
  },
  {
   "cell_type": "code",
   "execution_count": null,
   "id": "stone-fight",
   "metadata": {},
   "outputs": [],
   "source": [
    "x = [1, 2, 3, 4]\n",
    "x_square = [n**2 for n in x if n%2 == 0]\n",
    "x_square"
   ]
  },
  {
   "cell_type": "code",
   "execution_count": null,
   "id": "square-deadline",
   "metadata": {},
   "outputs": [],
   "source": []
  }
 ],
 "metadata": {
  "kernelspec": {
   "display_name": "Python 3 (ipykernel)",
   "language": "python",
   "name": "python3"
  },
  "language_info": {
   "codemirror_mode": {
    "name": "ipython",
    "version": 3
   },
   "file_extension": ".py",
   "mimetype": "text/x-python",
   "name": "python",
   "nbconvert_exporter": "python",
   "pygments_lexer": "ipython3",
   "version": "3.11.2"
  }
 },
 "nbformat": 4,
 "nbformat_minor": 5
}
